{
 "cells": [
  {
   "cell_type": "code",
   "execution_count": 2,
   "metadata": {},
   "outputs": [],
   "source": [
    "#一个求解4元一次方程的线性回归模型\n",
    "# csy 2019-10-30\n",
    "# 抄录于百度飞浆网站\n",
    "\n",
    "#加载库\n",
    "import paddle.fluid as fluid\n",
    "import numpy as np\n",
    "\n",
    "#生成数据\n",
    "np.random.seed(0)\n",
    "outputs = np.random.randint(5,size=(10,4))  #生成10行4列的小于5的随机数\n",
    "#outputs"
   ]
  },
  {
   "cell_type": "code",
   "execution_count": 3,
   "metadata": {},
   "outputs": [],
   "source": [
    "res = []\n",
    "for i in range(10):\n",
    "    #假设方程式为 y=4a+6b+7c+2d\n",
    "    y = 4*outputs[i][0]+6*outputs[i][1]+7*outputs[i][2]+2*outputs[i][3]\n",
    "    res.append([y])  # 当变量为array[][]时，对应的y值保存在res\n",
    "#res"
   ]
  },
  {
   "cell_type": "code",
   "execution_count": 4,
   "metadata": {},
   "outputs": [
    {
     "name": "stdout",
     "output_type": "stream",
     "text": [
      "iter=0,cost=1425.9384765625\n",
      "iter=50,cost=0.14573001861572266\n",
      "iter=100,cost=0.06022980064153671\n",
      "iter=150,cost=0.024955831468105316\n",
      "iter=200,cost=0.010340268723666668\n",
      "iter=250,cost=0.004284372553229332\n",
      "iter=300,cost=0.0017752178246155381\n",
      "iter=350,cost=0.0007355227135121822\n",
      "iter=400,cost=0.000304768473142758\n",
      "iter=450,cost=0.00012627670366782695\n"
     ]
    }
   ],
   "source": [
    "# 定义数据\n",
    "train_data = np.array(outputs).astype('float32')   # 训练数据使用10组随机生成的数据，将整型随机数改为浮点型\n",
    "y_true = np.array(res).astype('float32')           # 对应的标准答案\n",
    "\n",
    "# 定义网络\n",
    "x = fluid.layers.data(name=\"x\",shape=[4],dtype='float32')\n",
    "y = fluid.layers.data(name=\"y\",shape=[1],dtype='float32')\n",
    "y_predict = fluid.layers.fc(input=x,size=1,act=None)\n",
    "\n",
    "# 定义损失函数\n",
    "cost = fluid.layers.square_error_cost(input=y_predict,label=y)\n",
    "avg_cost = fluid.layers.mean(cost)\n",
    "\n",
    "# 定义优化\n",
    "sgd_optimizer = fluid.optimizer.SGD(learning_rate=0.05)\n",
    "sgd_optimizer.minimize(avg_cost)\n",
    "\n",
    "#参数初始化\n",
    "cpu = fluid.CPUPlace()\n",
    "exe = fluid.Executor(cpu)\n",
    "exe.run(fluid.default_startup_program())\n",
    "\n",
    "## 开始训练，迭代500次\n",
    "for i in range(500):\n",
    "    outs = exe.run(\n",
    "        feed={'x':train_data,'y':y_true},\n",
    "        fetch_list=[y_predict.name,avg_cost.name])\n",
    "    if i%50==0:\n",
    "        print('iter={:.0f},cost={}'.format(i,outs[1][0]))\n"
   ]
  },
  {
   "cell_type": "code",
   "execution_count": 6,
   "metadata": {},
   "outputs": [
    {
     "data": {
      "text/plain": [
       "array([[[ 9.],\n",
       "        [ 5.],\n",
       "        [ 2.],\n",
       "        [10.]]], dtype=float32)"
      ]
     },
     "execution_count": 6,
     "metadata": {},
     "output_type": "execute_result"
    }
   ],
   "source": [
    "# 存储训练结果\n",
    "params_dirname = 'result'\n",
    "fluid.io.save_inference_model(params_dirname,['x'],[y_predict],exe)\n",
    "\n",
    "# 开始预测\n",
    "infer_exe = fluid.Executor(cpu)\n",
    "inference_scope = fluid.Scope()\n",
    "\n",
    "# 加载训练好的模型\n",
    "with fluid.scope_guard(inference_scope):\n",
    "    [inference_program,feed_target_names,\n",
    "     fetch_targets] = fluid.io.load_inference_model(params_dirname,infer_exe)\n",
    "    \n",
    "# 生成测试数据\n",
    "test = np.array([[[9],[5],[2],[10]]]).astype('float32')\n",
    "test\n"
   ]
  },
  {
   "cell_type": "code",
   "execution_count": 9,
   "metadata": {},
   "outputs": [
    {
     "name": "stdout",
     "output_type": "stream",
     "text": [
      "当变量为[9,5,2,10]时，预测结果为[99.941025]\n"
     ]
    }
   ],
   "source": [
    "# 进行预测\n",
    "results = infer_exe.run(inference_program,\n",
    "                        feed={'x':test},\n",
    "                        fetch_list=fetch_targets)\n",
    "\n",
    "# 给出答案：\n",
    "print(\"当变量为[9,5,2,10]时，预测结果为{}\".format(results[0][0]))\n"
   ]
  },
  {
   "cell_type": "code",
   "execution_count": null,
   "metadata": {},
   "outputs": [],
   "source": []
  }
 ],
 "metadata": {
  "kernelspec": {
   "display_name": "Python 3",
   "language": "python",
   "name": "python3"
  },
  "language_info": {
   "codemirror_mode": {
    "name": "ipython",
    "version": 3
   },
   "file_extension": ".py",
   "mimetype": "text/x-python",
   "name": "python",
   "nbconvert_exporter": "python",
   "pygments_lexer": "ipython3",
   "version": "3.7.0"
  }
 },
 "nbformat": 4,
 "nbformat_minor": 2
}
