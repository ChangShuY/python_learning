{
 "cells": [
  {
   "cell_type": "code",
   "execution_count": 1,
   "metadata": {},
   "outputs": [
    {
     "name": "stdout",
     "output_type": "stream",
     "text": [
      "[array([[2.3445153],\n",
      "       [4.166941 ],\n",
      "       [5.9893675],\n",
      "       [7.8117933]], dtype=float32), array([0.04552374], dtype=float32)]\n"
     ]
    }
   ],
   "source": [
    "%run Model_aX_Train.py"
   ]
  },
  {
   "cell_type": "code",
   "execution_count": 2,
   "metadata": {},
   "outputs": [
    {
     "name": "stdout",
     "output_type": "stream",
     "text": [
      "[array([[2.4470773],\n",
      "       [4.2166395],\n",
      "       [5.9862013],\n",
      "       [7.7557635]], dtype=float32), array([0.07666316], dtype=float32)]\n"
     ]
    }
   ],
   "source": [
    "%run Model_aX_Train.py"
   ]
  },
  {
   "cell_type": "code",
   "execution_count": null,
   "metadata": {},
   "outputs": [],
   "source": []
  }
 ],
 "metadata": {
  "kernelspec": {
   "display_name": "Python 3",
   "language": "python",
   "name": "python3"
  },
  "language_info": {
   "codemirror_mode": {
    "name": "ipython",
    "version": 3
   },
   "file_extension": ".py",
   "mimetype": "text/x-python",
   "name": "python",
   "nbconvert_exporter": "python",
   "pygments_lexer": "ipython3",
   "version": "3.7.0"
  }
 },
 "nbformat": 4,
 "nbformat_minor": 2
}
