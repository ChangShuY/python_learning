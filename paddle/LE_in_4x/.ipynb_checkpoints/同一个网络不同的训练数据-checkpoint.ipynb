{
 "cells": [
  {
   "cell_type": "code",
   "execution_count": 1,
   "metadata": {},
   "outputs": [],
   "source": [
    "#加载库\n",
    "import paddle.fluid as fluid\n",
    "import numpy as np"
   ]
  },
  {
   "cell_type": "markdown",
   "metadata": {},
   "source": [
    "生成训练数据"
   ]
  },
  {
   "cell_type": "markdown",
   "metadata": {},
   "source": [
    "组=18,范围5，种子0\n",
    "0: 66.18200084975646=(3.195254015709299,3.860757465489678,3.4110535042865755,3.1795327319875875)\n",
    "1: 60.66656142463425=(2.694619197355619,3.5835764522666245,2.75034884505077,4.5670920031283195)\n",
    "2: 70.02066104417298=(4.854651042004117,2.533766075303111,4.166900152330658,3.115579679011618)\n",
    "3: 52.98907632367994=(3.2721782443757292,4.702386553170644,1.2841442327915478,1.3485171988061628)\n",
    "4: 68.0548568647661=(1.0808735897613029,4.330479382191752,4.1126270037994015,4.480048592987277)\n",
    "5: 73.00335457029932=(4.914473368931056,4.196634256866894,2.8459174490117274,4.122116705145822)\n",
    "6: 47.82173870961348=(1.4730977034757329,3.5596840853100953,1.5734131496361856,4.778675668198336)\n",
    "7: 50.902886362177=(3.0873932870002867,2.6586477599620943,2.058222448418508,4.096934757736866)\n",
    "8: 45.408018477137304=(2.824601328866194,3.273735795474594,1.0751592017454206,3.4705419883035082)\n",
    "9: 75.47945607979025=(3.4483828908896856,3.4677359874990277,4.774992314058497,3.7272811964139336)\n",
    "10: 55.256370559362345=(2.438031602295144,2.748127815197366,3.7905247837090594,1.2409018865170793)\n",
    "11: 52.68569840927289=(3.6670668617826707,3.6825514784726376,1.8415302442953636,1.5157051906194132)\n",
    "12: 52.25023379680907=(2.2617134036967355,2.4548430837704904,3.2807870816715186,2.7544060538492814)\n",
    "13: 44.40208218063563=(4.953495352236905,1.4081792429921123,1.8355070243793388,1.645238071539985)\n",
    "14: 50.54083804439055=(3.6124333018615937,2.0131664101591284,2.865243091425225,1.977702368006411)\n",
    "15: 43.6752088420882=(1.6358783345820789,1.4415005646572205,3.6253183578610937,1.5527318053944552)\n",
    "16: 54.75934252483067=(1.786329446720214,2.4749006826438564,4.28397291939174,1.388405103172245)\n",
    "17: 65.80355494299266=(4.351779629995216,1.3843936315758523,4.905837860053583,2.8746048065908063)"
   ]
  },
  {
   "cell_type": "code",
   "execution_count": 4,
   "metadata": {},
   "outputs": [],
   "source": [
    "# 由前4组数据产生的x,y\n",
    "train_data = np.array([[3.195,3.861,3.411,3.180],\n",
    "                [2.695,3.584,2.750,4.567],\n",
    "                [4.855,2.534,4.167,3.116],\n",
    "                [3.272,4.702,1.284,1.349]]).astype('float32')\n",
    "y_true = np.array([[66.182],[60.667],[70.021],[52.989]]).astype('float32')"
   ]
  },
  {
   "cell_type": "code",
   "execution_count": 7,
   "metadata": {},
   "outputs": [
    {
     "name": "stdout",
     "output_type": "stream",
     "text": [
      "0: 66.18300032615662=(3.194999933242798,3.8610000610351562,3.4110000133514404,3.180000066757202)\n",
      "1: 60.66800022125244=(2.694999933242798,3.5840001106262207,2.75,4.566999912261963)\n",
      "2: 70.0249981880188=(4.855000019073486,2.5339999198913574,4.166999816894531,3.115999937057495)\n",
      "3: 52.98600137233734=(3.2720000743865967,4.702000141143799,1.284000039100647,1.3489999771118164)\n"
     ]
    }
   ],
   "source": [
    "# 由前4组数据产生的x,由x计算出的y\n",
    "train_data = np.array([[3.195,3.861,3.411,3.180],\n",
    "                [2.695,3.584,2.750,4.567],\n",
    "                [4.855,2.534,4.167,3.116],\n",
    "                [3.272,4.702,1.284,1.349]]).astype('float32')\n",
    "\n",
    "res = []  #生成一个空list\n",
    "for i in range(4):\n",
    "    #假设方程式为 y=4a+6b+7c+2d，生成答案\n",
    "    y = 4*train_data[i][0]+6*train_data[i][1]+7*train_data[i][2]+2*train_data[i][3]\n",
    "    print(\"{}: {}=({},{},{},{})\".format(i,y,train_data[i][0],train_data[i][1],train_data[i][2],train_data[i][3]))\n",
    "    res.append([y]) \n",
    "\n",
    "y_true = np.array(res).astype('float32')"
   ]
  },
  {
   "cell_type": "code",
   "execution_count": 13,
   "metadata": {},
   "outputs": [
    {
     "name": "stdout",
     "output_type": "stream",
     "text": [
      "0: 45.0=(1.0,2.0,3.0,4.0)\n",
      "1: 50.0=(1.0,2.0,4.0,3.0)\n",
      "2: 44.0=(1.0,3.0,2.0,4.0)\n",
      "3: 54.0=(1.0,3.0,4.0,2.0)\n",
      "4: 48.0=(1.0,4.0,2.0,3.0)\n",
      "5: 53.0=(1.0,4.0,3.0,2.0)\n"
     ]
    }
   ],
   "source": [
    "# 由前4组数据产生的x,由x计算出的y\n",
    "train_data = np.array([[1,2,3,4],\n",
    "                [1,2,4,3],\n",
    "                [1,3,2,4],\n",
    "                [1,3,4,2],\n",
    "                [1,4,2,3],\n",
    "                [1,4,3,2]]).astype('float32')\n",
    "\n",
    "res = []  #生成一个空list\n",
    "for i in range(6):\n",
    "    #假设方程式为 y=4a+6b+7c+2d，生成答案\n",
    "    y = 4*train_data[i][0]+6*train_data[i][1]+7*train_data[i][2]+2*train_data[i][3]\n",
    "    print(\"{}: {}=({},{},{},{})\".format(i,y,train_data[i][0],train_data[i][1],train_data[i][2],train_data[i][3]))\n",
    "    res.append([y]) \n",
    "\n",
    "y_true = np.array(res).astype('float32')"
   ]
  },
  {
   "cell_type": "markdown",
   "metadata": {},
   "source": [
    "模型"
   ]
  },
  {
   "cell_type": "code",
   "execution_count": 14,
   "metadata": {},
   "outputs": [
    {
     "name": "stdout",
     "output_type": "stream",
     "text": [
      "iter=0,cost=2995.4345703125\n",
      "iter=1,cost=10774.0146484375\n",
      "iter=2,cost=38862.19921875\n",
      "iter=3,cost=140266.640625\n",
      "iter=4,cost=506341.59375\n",
      "iter=5,cost=1827876.125\n",
      "iter=6,cost=6598620.0\n",
      "iter=7,cost=23821014.0\n",
      "iter=8,cost=85993864.0\n",
      "iter=9,cost=310437952.0\n"
     ]
    }
   ],
   "source": [
    "# 定义网络,学习率由0.05改为0.01\n",
    "x = fluid.data(name=\"x\",shape=[None,4],dtype='float32')\n",
    "y = fluid.data(name=\"y\",shape=[None,1],dtype='float32')\n",
    "#x = fluid.layers.data(name=\"x\",shape=[4],dtype='float32')\n",
    "#y = fluid.layers.data(name=\"y\",shape=[1],dtype='float32')\n",
    "y_predict = fluid.layers.fc(input=x,size=1,act=None)\n",
    "\n",
    "# 定义损失函数\n",
    "cost = fluid.layers.square_error_cost(input=y_predict,label=y)\n",
    "avg_cost = fluid.layers.mean(cost)\n",
    "\n",
    "# 定义优化\n",
    "sgd_optimizer = fluid.optimizer.SGD(learning_rate=0.01)\n",
    "sgd_optimizer.minimize(avg_cost)\n",
    "\n",
    "#参数初始化\n",
    "cpu = fluid.CPUPlace()\n",
    "exe = fluid.Executor(cpu)\n",
    "exe.run(fluid.default_startup_program())\n",
    "\n",
    "## 开始训练，多次迭代500次\n",
    "for i in range(10):\n",
    "    outs = exe.run(\n",
    "        feed={'x':train_data,'y':y_true},\n",
    "        fetch_list=[y_predict.name,avg_cost.name])\n",
    "    #if i%50==0:\n",
    "    print('iter={:.0f},cost={}'.format(i,outs[1][0]))\n"
   ]
  },
  {
   "cell_type": "code",
   "execution_count": null,
   "metadata": {},
   "outputs": [],
   "source": []
  }
 ],
 "metadata": {
  "kernelspec": {
   "display_name": "Python 3",
   "language": "python",
   "name": "python3"
  },
  "language_info": {
   "codemirror_mode": {
    "name": "ipython",
    "version": 3
   },
   "file_extension": ".py",
   "mimetype": "text/x-python",
   "name": "python",
   "nbconvert_exporter": "python",
   "pygments_lexer": "ipython3",
   "version": "3.7.0"
  }
 },
 "nbformat": 4,
 "nbformat_minor": 2
}
