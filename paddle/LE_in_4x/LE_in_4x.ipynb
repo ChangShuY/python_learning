{
 "cells": [
  {
   "cell_type": "code",
   "execution_count": 1,
   "metadata": {},
   "outputs": [
    {
     "name": "stdout",
     "output_type": "stream",
     "text": [
      "iter=0,cost=1479.2904052734375\n",
      "iter=50,cost=0.14348836243152618\n",
      "iter=100,cost=0.05927746370434761\n",
      "iter=150,cost=0.02456105686724186\n",
      "iter=200,cost=0.010176634415984154\n",
      "iter=250,cost=0.004216612316668034\n",
      "iter=300,cost=0.0017471371684223413\n",
      "iter=350,cost=0.0007239023689180613\n",
      "iter=400,cost=0.00029994771466590464\n",
      "iter=450,cost=0.00012427917681634426\n"
     ]
    },
    {
     "data": {
      "text/plain": [
       "['save_infer_model/scale_0']"
      ]
     },
     "execution_count": 1,
     "metadata": {},
     "output_type": "execute_result"
    }
   ],
   "source": [
    "#加载库\n",
    "import paddle.fluid as fluid\n",
    "import numpy as np\n",
    "\n",
    "#生成数据\n",
    "np.random.seed(0)\n",
    "outputs = np.random.randint(5,size=(10,4))  #生成10行4列的小于5的随机数\n",
    "res = []\n",
    "for i in range(10):\n",
    "    #假设方程式为 y=4a+6b+7c+2d，生成答案\n",
    "    y = 4*outputs[i][0]+6*outputs[i][1]+7*outputs[i][2]+2*outputs[i][3]\n",
    "    res.append([y])  # 当变量为array[][]时，对应的y值保存在res\n",
    "#res\n",
    "\n",
    "# 定义数据\n",
    "train_data = np.array(outputs).astype('float32')   # 训练数据使用10组随机生成的数据，将整型随机数改为浮点型\n",
    "y_true = np.array(res).astype('float32')           # 对应的标准答案\n",
    "\n",
    "# 定义网络\n",
    "x = fluid.layers.data(name=\"x\",shape=[4],dtype='float32')\n",
    "y = fluid.layers.data(name=\"y\",shape=[1],dtype='float32')\n",
    "y_predict = fluid.layers.fc(input=x,size=1,act=None)\n",
    "\n",
    "# 定义损失函数\n",
    "cost = fluid.layers.square_error_cost(input=y_predict,label=y)\n",
    "avg_cost = fluid.layers.mean(cost)\n",
    "\n",
    "# 定义优化\n",
    "sgd_optimizer = fluid.optimizer.SGD(learning_rate=0.05)\n",
    "sgd_optimizer.minimize(avg_cost)\n",
    "\n",
    "#参数初始化\n",
    "cpu = fluid.CPUPlace()\n",
    "exe = fluid.Executor(cpu)\n",
    "exe.run(fluid.default_startup_program())\n",
    "\n",
    "## 开始训练，迭代500次\n",
    "for i in range(500):\n",
    "    outs = exe.run(\n",
    "        feed={'x':train_data,'y':y_true},\n",
    "        fetch_list=[y_predict.name,avg_cost.name])\n",
    "    if i%50==0:\n",
    "        print('iter={:.0f},cost={}'.format(i,outs[1][0]))\n",
    "        \n",
    "# 存储训练结果\n",
    "params_dirname = 'model'\n",
    "fluid.io.save_inference_model(params_dirname,['x'],[y_predict],exe)\n"
   ]
  },
  {
   "cell_type": "code",
   "execution_count": 4,
   "metadata": {},
   "outputs": [
    {
     "name": "stdout",
     "output_type": "stream",
     "text": [
      "当变量为[9,5,2,10]时，预测结果为[array([[99.94149]], dtype=float32)]\n"
     ]
    }
   ],
   "source": [
    "# 开始预测\n",
    "infer_exe = fluid.Executor(cpu)\n",
    "inference_scope = fluid.Scope()\n",
    "\n",
    "# 加载训练好的模型\n",
    "with fluid.scope_guard(inference_scope):\n",
    "    [inference_program,feed_target_names,\n",
    "     fetch_targets] = fluid.io.load_inference_model(params_dirname,infer_exe)\n",
    "    \n",
    "# 生成测试数据\n",
    "test = np.array([[[9],[5],[2],[10]]]).astype('float32')\n",
    "\n",
    "# 进行预测\n",
    "results = infer_exe.run(inference_program,\n",
    "                        feed={'x':test},\n",
    "                        fetch_list=fetch_targets)\n",
    "\n",
    "# 给出答案：\n",
    "print(\"当变量为[9,5,2,10]时，预测结果为{}\".format(results))\n"
   ]
  },
  {
   "cell_type": "code",
   "execution_count": 7,
   "metadata": {},
   "outputs": [
    {
     "name": "stdout",
     "output_type": "stream",
     "text": [
      "当变量为[9,5,2,10]时，预测结果为[99.94149]\n"
     ]
    }
   ],
   "source": [
    "%run LE_in_4x_test.py"
   ]
  },
  {
   "cell_type": "code",
   "execution_count": null,
   "metadata": {},
   "outputs": [],
   "source": []
  }
 ],
 "metadata": {
  "kernelspec": {
   "display_name": "Python 3",
   "language": "python",
   "name": "python3"
  },
  "language_info": {
   "codemirror_mode": {
    "name": "ipython",
    "version": 3
   },
   "file_extension": ".py",
   "mimetype": "text/x-python",
   "name": "python",
   "nbconvert_exporter": "python",
   "pygments_lexer": "ipython3",
   "version": "3.7.0"
  }
 },
 "nbformat": 4,
 "nbformat_minor": 2
}
