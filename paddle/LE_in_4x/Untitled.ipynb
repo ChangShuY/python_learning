{
 "cells": [
  {
   "cell_type": "code",
   "execution_count": 9,
   "metadata": {},
   "outputs": [
    {
     "name": "stdout",
     "output_type": "stream",
     "text": [
      "iter=0,cost=1598.974609375\n",
      "iter=50,cost=0.16379782557487488\n",
      "iter=100,cost=0.0677201896905899\n",
      "iter=150,cost=0.028059352189302444\n",
      "iter=200,cost=0.011626148596405983\n",
      "iter=250,cost=0.00481721106916666\n",
      "iter=300,cost=0.0019959036726504564\n",
      "iter=350,cost=0.0008269920945167542\n",
      "iter=400,cost=0.00034266215516254306\n",
      "iter=450,cost=0.00014197462587617338\n"
     ]
    }
   ],
   "source": [
    "%run LE_in_4x_train.py"
   ]
  },
  {
   "cell_type": "code",
   "execution_count": 33,
   "metadata": {},
   "outputs": [
    {
     "name": "stdout",
     "output_type": "stream",
     "text": [
      "请输入一个正整数给group赋值：30\n",
      "iter=0,cost=2033.0203857421875\n",
      "iter=50,cost=33.96736526489258\n",
      "iter=100,cost=0.6244333982467651\n",
      "iter=150,cost=0.027385147288441658\n",
      "iter=200,cost=0.006328038405627012\n",
      "iter=250,cost=0.0021549658849835396\n",
      "iter=300,cost=0.000751588842831552\n",
      "iter=350,cost=0.0002624564222060144\n",
      "iter=400,cost=9.166085510514677e-05\n",
      "iter=450,cost=3.2008156267693266e-05\n"
     ]
    }
   ],
   "source": [
    "%run LE_in_4x_train.py"
   ]
  },
  {
   "cell_type": "code",
   "execution_count": 20,
   "metadata": {},
   "outputs": [
    {
     "data": {
      "text/plain": [
       "array([[4, 0, 3, 3],\n",
       "       [3, 1, 3, 2],\n",
       "       [4, 0, 0, 4],\n",
       "       [2, 1, 0, 1],\n",
       "       [1, 0, 1, 4],\n",
       "       [3, 0, 3, 0],\n",
       "       [2, 3, 0, 1],\n",
       "       [3, 3, 3, 0],\n",
       "       [1, 1, 1, 0],\n",
       "       [2, 4, 3, 3],\n",
       "       [2, 4, 2, 0],\n",
       "       [0, 4, 0, 4],\n",
       "       [1, 4, 1, 2],\n",
       "       [2, 0, 1, 1],\n",
       "       [1, 1, 3, 3],\n",
       "       [2, 3, 0, 3],\n",
       "       [4, 1, 2, 4],\n",
       "       [3, 4, 4, 4],\n",
       "       [3, 4, 4, 4],\n",
       "       [0, 4, 3, 2]])"
      ]
     },
     "execution_count": 20,
     "metadata": {},
     "output_type": "execute_result"
    }
   ],
   "source": [
    "19outputs"
   ]
  },
  {
   "cell_type": "code",
   "execution_count": 34,
   "metadata": {},
   "outputs": [
    {
     "data": {
      "text/plain": [
       "array([[[ 9.],\n",
       "        [ 5.],\n",
       "        [ 2.],\n",
       "        [10.]]], dtype=float32)"
      ]
     },
     "execution_count": 34,
     "metadata": {},
     "output_type": "execute_result"
    }
   ],
   "source": [
    "test = np.array([[[9],[5],[2],[10]]]).astype('float32')\n",
    "test"
   ]
  },
  {
   "cell_type": "code",
   "execution_count": null,
   "metadata": {},
   "outputs": [],
   "source": []
  }
 ],
 "metadata": {
  "kernelspec": {
   "display_name": "Python 3",
   "language": "python",
   "name": "python3"
  },
  "language_info": {
   "codemirror_mode": {
    "name": "ipython",
    "version": 3
   },
   "file_extension": ".py",
   "mimetype": "text/x-python",
   "name": "python",
   "nbconvert_exporter": "python",
   "pygments_lexer": "ipython3",
   "version": "3.7.0"
  }
 },
 "nbformat": 4,
 "nbformat_minor": 2
}
