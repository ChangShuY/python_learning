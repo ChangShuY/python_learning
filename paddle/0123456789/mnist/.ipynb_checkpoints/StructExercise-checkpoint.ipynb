{
 "cells": [
  {
   "cell_type": "markdown",
   "metadata": {},
   "source": [
    "# 用struct模块操作二进制流/字节流\n",
    "原文：https://www.jianshu.com/p/5a985f29fa81\n"
   ]
  },
  {
   "cell_type": "code",
   "execution_count": 1,
   "metadata": {},
   "outputs": [],
   "source": [
    "import struct"
   ]
  },
  {
   "cell_type": "markdown",
   "metadata": {},
   "source": [
    "## 整型数转二进制流"
   ]
  },
  {
   "cell_type": "markdown",
   "metadata": {},
   "source": [
    "‘i'表示四字节的有符号整型数，'>'表示大端。"
   ]
  },
  {
   "cell_type": "code",
   "execution_count": 33,
   "metadata": {},
   "outputs": [
    {
     "name": "stdout",
     "output_type": "stream",
     "text": [
      "123456 b'\\x00\\x01\\xe2@' (123456,) (123456,)\n"
     ]
    }
   ],
   "source": [
    "int32 = 123456 # 0x0001e240  ASCII(0x40)='@'\n",
    "bin_buf=struct.pack('>i',int32)\n",
    "inta = struct.unpack('>i',bin_buf)\n",
    "intb = struct.unpack('>i',b'\\x00\\x01\\xe2\\x40')\n",
    "print(int32,bin_buf,inta,intb)"
   ]
  },
  {
   "cell_type": "code",
   "execution_count": 39,
   "metadata": {},
   "outputs": [
    {
     "name": "stdout",
     "output_type": "stream",
     "text": [
      "12345678 b'\\x00\\xbcaN' (12345678,) (12345678,)\n"
     ]
    }
   ],
   "source": [
    "int32 = 12345678 # 0x00bc614e ASCII(0x61)='a',ASCII(0x4e)='N'\n",
    "bin_buf=struct.pack('>i',int32)\n",
    "inta = struct.unpack('>i',bin_buf)\n",
    "intb = struct.unpack('>i',b'\\x00\\xbc\\x61\\x4e')\n",
    "print(int32,bin_buf,inta,intb)"
   ]
  },
  {
   "cell_type": "code",
   "execution_count": 5,
   "metadata": {},
   "outputs": [
    {
     "data": {
      "text/plain": [
       "b'\\x00\\x00\\x00\\x00'"
      ]
     },
     "execution_count": 5,
     "metadata": {},
     "output_type": "execute_result"
    }
   ],
   "source": [
    "int32 = 0\n",
    "bin_buf=struct.pack('i',int32)\n",
    "bin_buf"
   ]
  },
  {
   "cell_type": "markdown",
   "metadata": {},
   "source": [
    "默认为小端"
   ]
  },
  {
   "cell_type": "code",
   "execution_count": 7,
   "metadata": {},
   "outputs": [
    {
     "data": {
      "text/plain": [
       "b'\\xff\\xff\\x00\\x00'"
      ]
     },
     "execution_count": 7,
     "metadata": {},
     "output_type": "execute_result"
    }
   ],
   "source": [
    "int32 = 65535 # 0x0000ffff\n",
    "bin_buf=struct.pack('i',int32)\n",
    "bin_buf"
   ]
  },
  {
   "cell_type": "markdown",
   "metadata": {},
   "source": [
    "小端也可以'<'"
   ]
  },
  {
   "cell_type": "code",
   "execution_count": 32,
   "metadata": {},
   "outputs": [
    {
     "name": "stdout",
     "output_type": "stream",
     "text": [
      "b'\\x00\\x00\\x00\\x80' b'\\x00\\x00\\x00\\x80'\n"
     ]
    }
   ],
   "source": [
    "int32 = -2147483648 # 0x80000000\n",
    "bin_buf=struct.pack('i',int32)\n",
    "bin_buf1=struct.pack('<i',int32)\n",
    "print(bin_buf,bin_buf1)"
   ]
  },
  {
   "cell_type": "code",
   "execution_count": 11,
   "metadata": {},
   "outputs": [
    {
     "data": {
      "text/plain": [
       "b'\\xff\\xff\\xff\\x7f'"
      ]
     },
     "execution_count": 11,
     "metadata": {},
     "output_type": "execute_result"
    }
   ],
   "source": [
    "int32 = 2147483647 # 0x7fffffff\n",
    "bin_buf=struct.pack('i',int32)\n",
    "bin_buf"
   ]
  },
  {
   "cell_type": "markdown",
   "metadata": {},
   "source": [
    "## 浮点数转二进制流"
   ]
  },
  {
   "cell_type": "markdown",
   "metadata": {},
   "source": [
    "‘d’ 表示8字节浮点数 "
   ]
  },
  {
   "cell_type": "code",
   "execution_count": 59,
   "metadata": {},
   "outputs": [
    {
     "name": "stdout",
     "output_type": "stream",
     "text": [
      "b'o\\x12\\x83\\xc0\\xca!\\t@' (3.1415,) (322.112,) (3.1415,)\n"
     ]
    }
   ],
   "source": [
    "buf2 = 3.1415 # 0x407421cac083126f\n",
    "bin_buf2 = struct.pack('d', buf2) # 'd'代表'double'\n",
    "ret2 = struct.unpack('d', bin_buf2)\n",
    "ret21 = struct.unpack('d', b'\\x6f\\x12\\x83\\xc0\\xca\\x21\\x74\\x40')\n",
    "ret22 = struct.unpack('d', b'o\\x12\\x83\\xc0\\xca!\\t@')\n",
    "print(bin_buf2, ret2,ret21,ret22)"
   ]
  },
  {
   "cell_type": "code",
   "execution_count": null,
   "metadata": {},
   "outputs": [],
   "source": []
  }
 ],
 "metadata": {
  "kernelspec": {
   "display_name": "Python 3",
   "language": "python",
   "name": "python3"
  },
  "language_info": {
   "codemirror_mode": {
    "name": "ipython",
    "version": 3
   },
   "file_extension": ".py",
   "mimetype": "text/x-python",
   "name": "python",
   "nbconvert_exporter": "python",
   "pygments_lexer": "ipython3",
   "version": "3.7.0"
  }
 },
 "nbformat": 4,
 "nbformat_minor": 2
}
