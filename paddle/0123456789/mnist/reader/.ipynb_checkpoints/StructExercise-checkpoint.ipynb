{
 "cells": [
  {
   "cell_type": "markdown",
   "metadata": {},
   "source": [
    "别忘了我的目的是：https://www.jianshu.com/p/84f72791806f"
   ]
  },
  {
   "cell_type": "markdown",
   "metadata": {},
   "source": [
    "# 操作二进制流/字节流\n",
    "参考文章：\n",
    "\n",
    "https://www.jianshu.com/p/5a985f29fa81\n",
    "\n",
    "https://blog.csdn.net/GodLordGee/article/details/90373941 <Python 字节流、字符串、十六进制相互转换（binascii、bytes）>\n"
   ]
  },
  {
   "cell_type": "markdown",
   "metadata": {},
   "source": [
    "| 转义字符 | 意义 | ASCII |\n",
    "\n",
    "|  b'\\a'  | BEL | 0x07  |\n",
    "\n",
    "|  b'\\b'  | BS  | 0x08  |\n",
    "\n",
    "|  b'\\f'  | FF  | 0x0c  |\n",
    "\n",
    "|  b'\\n'  | LF  | 0x0a  | \n",
    "\n",
    "|  b'\\r'  | CR  | 0x0d  |\n",
    "\n",
    "|  b'\\t'  | HT  | 0x09  |\n",
    "\n",
    "|  b'\\v'  | VT  | 0x0b  |\n",
    "\n",
    "|  b'\\x'  | x后面的两位数是十六进制数 |\n",
    "\n",
    "|  b'\\\\'  | \\   | 0x5c  |\n",
    "\n",
    "|  b'\\''  | '   | 0x27  |\n",
    "\n",
    "|  b'\\\"'  | \"   | 0x22  |\n",
    "\n",
    "|  b'\\0'  |NULL | 0x00  |\n"
   ]
  },
  {
   "cell_type": "markdown",
   "metadata": {},
   "source": [
    "## 整型数的转换"
   ]
  },
  {
   "cell_type": "markdown",
   "metadata": {},
   "source": [
    "### 使用 struct 模块"
   ]
  },
  {
   "cell_type": "markdown",
   "metadata": {},
   "source": [
    "‘i'表示四字节的有符号整型数，'>'表示大端。"
   ]
  },
  {
   "cell_type": "code",
   "execution_count": 3,
   "metadata": {},
   "outputs": [],
   "source": [
    "import struct"
   ]
  },
  {
   "cell_type": "code",
   "execution_count": 10,
   "metadata": {},
   "outputs": [
    {
     "name": "stdout",
     "output_type": "stream",
     "text": [
      "123456 b'\\x00\\x01\\xe2@' (123456,) (123456,)\n"
     ]
    }
   ],
   "source": [
    "int32 = 123456 # 0x0001e240  ASCII(0x40)='@'\n",
    "bin_buf=struct.pack('>i',int32)\n",
    "inta = struct.unpack('>i',bin_buf)\n",
    "intb = struct.unpack('>i',b'\\x00\\x01\\xe2\\x40')\n",
    "print(int32,bin_buf,inta,intb)"
   ]
  },
  {
   "cell_type": "code",
   "execution_count": 11,
   "metadata": {},
   "outputs": [
    {
     "name": "stdout",
     "output_type": "stream",
     "text": [
      "12345678 b'\\x00\\xbcaN' (12345678,) (12345678,)\n"
     ]
    }
   ],
   "source": [
    "int32 = 12345678 # 0x00bc614e ASCII(0x61)='a',ASCII(0x4e)='N'\n",
    "bin_buf=struct.pack('>i',int32)\n",
    "inta = struct.unpack('>i',bin_buf)\n",
    "intb = struct.unpack('>i',b'\\x00\\xbc\\x61\\x4e')\n",
    "print(int32,bin_buf,inta,intb)"
   ]
  },
  {
   "cell_type": "code",
   "execution_count": 12,
   "metadata": {},
   "outputs": [
    {
     "data": {
      "text/plain": [
       "b'\\x00\\x00\\x00\\x00'"
      ]
     },
     "execution_count": 12,
     "metadata": {},
     "output_type": "execute_result"
    }
   ],
   "source": [
    "int32 = 0\n",
    "bin_buf=struct.pack('i',int32)\n",
    "bin_buf"
   ]
  },
  {
   "cell_type": "markdown",
   "metadata": {},
   "source": [
    "默认为小端"
   ]
  },
  {
   "cell_type": "code",
   "execution_count": 7,
   "metadata": {},
   "outputs": [
    {
     "data": {
      "text/plain": [
       "b'\\xff\\xff\\x00\\x00'"
      ]
     },
     "execution_count": 7,
     "metadata": {},
     "output_type": "execute_result"
    }
   ],
   "source": [
    "int32 = 65535 # 0x0000ffff\n",
    "bin_buf=struct.pack('i',int32)\n",
    "bin_buf"
   ]
  },
  {
   "cell_type": "markdown",
   "metadata": {},
   "source": [
    "小端也可以'<'"
   ]
  },
  {
   "cell_type": "code",
   "execution_count": 32,
   "metadata": {},
   "outputs": [
    {
     "name": "stdout",
     "output_type": "stream",
     "text": [
      "b'\\x00\\x00\\x00\\x80' b'\\x00\\x00\\x00\\x80'\n"
     ]
    }
   ],
   "source": [
    "int32 = -2147483648 # 0x80000000\n",
    "bin_buf=struct.pack('i',int32)\n",
    "bin_buf1=struct.pack('<i',int32)\n",
    "print(bin_buf,bin_buf1)"
   ]
  },
  {
   "cell_type": "code",
   "execution_count": 11,
   "metadata": {},
   "outputs": [
    {
     "data": {
      "text/plain": [
       "b'\\xff\\xff\\xff\\x7f'"
      ]
     },
     "execution_count": 11,
     "metadata": {},
     "output_type": "execute_result"
    }
   ],
   "source": [
    "int32 = 2147483647 # 0x7fffffff\n",
    "bin_buf=struct.pack('i',int32)\n",
    "bin_buf"
   ]
  },
  {
   "cell_type": "markdown",
   "metadata": {},
   "source": [
    "## 浮点数的转换"
   ]
  },
  {
   "cell_type": "markdown",
   "metadata": {},
   "source": [
    "‘d’ 表示8字节浮点数 "
   ]
  },
  {
   "cell_type": "code",
   "execution_count": 19,
   "metadata": {},
   "outputs": [
    {
     "name": "stdout",
     "output_type": "stream",
     "text": [
      "b'o\\x12\\x83\\xc0\\xca!\\t@' (3.1415,) (3.1415,) (3.1415,)\n"
     ]
    }
   ],
   "source": [
    "buf2 = 3.1415 # 0x407421cac083126f\n",
    "bin_buf2 = struct.pack('d', buf2) # 'd'代表'double'\n",
    "ret2 = struct.unpack('d', bin_buf2)\n",
    "ret21 = struct.unpack('d', b'\\x6f\\x12\\x83\\xc0\\xca\\x21\\x09\\x40') \n",
    "ret22 = struct.unpack('d', b'o\\x12\\x83\\xc0\\xca!\\t@')\n",
    "print(bin_buf2, ret2,ret21,ret22)"
   ]
  },
  {
   "cell_type": "markdown",
   "metadata": {},
   "source": [
    "## 字符串的转换"
   ]
  },
  {
   "cell_type": "code",
   "execution_count": 17,
   "metadata": {},
   "outputs": [
    {
     "name": "stdout",
     "output_type": "stream",
     "text": [
      "b'Hello World' b'ab' (b'ab',)\n"
     ]
    }
   ],
   "source": [
    "buf3 = 'Hello World'\n",
    "b1=bytes('Hello World',encoding='utf-8') # 使用bytes()函数\n",
    "bin_buf3 = struct.pack('2s', b'ab')\n",
    "ret3 = struct.unpack('2s', bin_buf3)\n",
    "#print(bin_buf3, '  <====>  ', ret3)\n",
    "print(b1,bin_buf3,ret3)"
   ]
  },
  {
   "cell_type": "markdown",
   "metadata": {},
   "source": [
    "### 使用bytes类型 "
   ]
  },
  {
   "cell_type": "markdown",
   "metadata": {},
   "source": [
    "参考文章：\n",
    "\n",
    "http://c.biancheng.net/view/2175.html 《Python bytes类型及用法》\n",
    "\n",
    "https://www.cnblogs.com/zhaijiahui/p/9597935.html 《Python3 字符串与hex之间的相互转换》"
   ]
  },
  {
   "cell_type": "markdown",
   "metadata": {},
   "source": [
    "Python3 新增了 bytes 类型，以字节为单位进行操作。bytes对象保存的就是原始的二进制数据。"
   ]
  },
  {
   "cell_type": "code",
   "execution_count": 16,
   "metadata": {},
   "outputs": [
    {
     "name": "stdout",
     "output_type": "stream",
     "text": [
      "b'\\xe4\\xbd\\xa0\\xe5\\xa5\\xbd,World!' b'Hello,World!'\n",
      "b'\\xe4\\xbd\\xa0\\xe5\\xa5\\xbd,World!' 你好,World!\n"
     ]
    }
   ],
   "source": [
    "b1=bytes('你好,World!',encoding='utf-8') # 使用bytes()函数\n",
    "b2=b'Hello,World!' # ASCII编码\n",
    "b3='你好,World!'.encode('utf-8') # 字符串的encode方法\n",
    "b4='你好,World!' # 得到字符串\n",
    "print(b1,b2)\n",
    "print(b3,b4)"
   ]
  },
  {
   "cell_type": "code",
   "execution_count": 2,
   "metadata": {},
   "outputs": [
    {
     "name": "stdout",
     "output_type": "stream",
     "text": [
      "b'\\rvT0!\\n\\xbc\\xde\\xf0'\n"
     ]
    },
    {
     "data": {
      "text/plain": [
       "'0d765430210abcdef0'"
      ]
     },
     "execution_count": 2,
     "metadata": {},
     "output_type": "execute_result"
    }
   ],
   "source": [
    "bin_buf3=bytes.fromhex('0D765430210abcdef0') # 可以表示为4bit数据的字符成为的串\n",
    "print(bin_buf3)\n",
    "aa=bin_buf3.hex() # 将二进制数据转换成用十六进制表示的字符串\n",
    "aa"
   ]
  },
  {
   "cell_type": "code",
   "execution_count": null,
   "metadata": {},
   "outputs": [],
   "source": []
  }
 ],
 "metadata": {
  "kernelspec": {
   "display_name": "Python 3",
   "language": "python",
   "name": "python3"
  },
  "language_info": {
   "codemirror_mode": {
    "name": "ipython",
    "version": 3
   },
   "file_extension": ".py",
   "mimetype": "text/x-python",
   "name": "python",
   "nbconvert_exporter": "python",
   "pygments_lexer": "ipython3",
   "version": "3.7.0"
  }
 },
 "nbformat": 4,
 "nbformat_minor": 2
}
