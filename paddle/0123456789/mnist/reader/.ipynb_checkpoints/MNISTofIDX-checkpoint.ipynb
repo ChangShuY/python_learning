{
 "cells": [
  {
   "cell_type": "markdown",
   "metadata": {},
   "source": [
    "# 解析MNIST数据集"
   ]
  },
  {
   "cell_type": "markdown",
   "metadata": {},
   "source": [
    "参考文章：《使用Python解析MNIST数据集（IDX文件格式）》\n",
    "https://www.jianshu.com/p/84f72791806f\n",
    "\n",
    "CSY 2019-12-16\n",
    "\n",
    "对MNIST手写数字数据文件转换为bmp图片文件格式。\n",
    "数据集下载地址为http://yann.lecun.com/exdb/mnist"
   ]
  },
  {
   "cell_type": "markdown",
   "metadata": {},
   "source": [
    "=====================\n",
    "IDX文件的格式\n",
    "---------------------\n",
    "\n",
    "基本格式如下：\n",
    "\n",
    "------------------\n",
    "幻数(magic number)  \n",
    "0维的大小  \n",
    "1维的大小  \n",
    "2维的大小  \n",
    "...  \n",
    "N维的大小  \n",
    "数据(data)...\n",
    "__________________\n",
    "\n",
    "幻数是最高位有效位在前(MSB firt)的四字节整型数。  \n",
    "\n",
    "前两个字节为0。  \n",
    "\n",
    "第三个字节指明了数据(the data)的类型：  \n",
    "0x08  无符号的字节型 (8bit)  \n",
    "0x09  有符号的字节型 (8bit)  \n",
    "0x0B  短整型 (16bit)  \n",
    "0x0C  整型 (32bit)  \n",
    "0x0D  浮点型 (32bit)  \n",
    "0x0E  双精度浮点型 (64bit)\n",
    "\n",
    "第四个字节指明向量或矩阵的维度：  \n",
    "1  向量  \n",
    "2  矩阵  \n",
    "...  \n",
    "________________________________________________\n",
    "\n",
    "\n",
    "每一个维度的大小都用4字节的整型数表示。最高有效位在前（MSB first）、大端(high endian)。\n",
    "\n",
    "____________________________________________\n",
    "\n",
    "数据(the data)向C语言中的数组一样存储。例如，最后一维的变化最快。\n"
   ]
  },
  {
   "cell_type": "markdown",
   "metadata": {},
   "source": [
    "第1句 用于 Linux/Unix ，指定调用  /usr/bin 下的 python 解释器。  \n",
    "建议用 #!/usr/bin/env python 代替。  \n",
    "使用 python a.py 忽略该行。\n",
    "第2句 告诉python解释器，源程序用utf-8编码"
   ]
  },
  {
   "cell_type": "code",
   "execution_count": 1,
   "metadata": {},
   "outputs": [],
   "source": [
    "#!/usr/bin/python \n",
    "#_*_ coding: utf-8 _*_"
   ]
  },
  {
   "cell_type": "code",
   "execution_count": 17,
   "metadata": {},
   "outputs": [],
   "source": [
    "import numpy as np\n",
    "import struct\n",
    "import matplotlib.pyplot as plt\n",
    "import random"
   ]
  },
  {
   "cell_type": "markdown",
   "metadata": {},
   "source": [
    "在办公室的机器上运行的程序段"
   ]
  },
  {
   "cell_type": "code",
   "execution_count": null,
   "metadata": {},
   "outputs": [],
   "source": [
    "# 训练集图像文件\n",
    "#train_images_file = '../train-images.idx3-ubyte'\n",
    "train_images_file = 'train-images.idx3-ubyte'\n",
    "# 训练集标签文件\n",
    "#train_labels_file = '../train-labels.idx1-ubyte'\n",
    "train_labels_file = 'train-labels.idx1-ubyte'\n",
    "# 测试集图像文件\n",
    "#test_images_file = '../t10k-images.idx3-ubyte'\n",
    "test_images_file = 't10k-images.idx3-ubyte'\n",
    "# 测试集标签文件\n",
    "#test_labels_file = '../t10k-labels.idx1-ubyte'\n",
    "test_labels_file = 't10k-labels.idx1-ubyte'"
   ]
  },
  {
   "cell_type": "markdown",
   "metadata": {},
   "source": [
    "在联想笔记本上运行的程序段"
   ]
  },
  {
   "cell_type": "code",
   "execution_count": 18,
   "metadata": {},
   "outputs": [],
   "source": [
    "# 训练集图像文件\n",
    "train_images_file = '../train-images.idx3-ubyte'\n",
    "#train_images_file = 'train-images.idx3-ubyte'\n",
    "# 训练集标签文件\n",
    "train_labels_file = '../train-labels.idx1-ubyte'\n",
    "#train_labels_file = 'train-labels.idx1-ubyte'\n",
    "# 测试集图像文件\n",
    "test_images_file = '../t10k-images.idx3-ubyte'\n",
    "#test_images_file = 't10k-images.idx3-ubyte'\n",
    "# 测试集标签文件\n",
    "test_labels_file = '../t10k-labels.idx1-ubyte'\n",
    "#test_labels_file = 't10k-labels.idx1-ubyte'"
   ]
  },
  {
   "cell_type": "markdown",
   "metadata": {},
   "source": [
    "文件操作\n",
    "\n",
    "open(name[,mode[,buffering]])\n",
    "\n",
    "参数说明：\n",
    "\n",
    "name : 一个包含了你要访问的文件名称的字符串值。\n",
    "\n",
    "mode : mode 决定了打开文件的模式：只读，写入，追加等。所有可取值见如下的完全列表。这个参数是非强制的，默认文件访问模式为只读(r)。\n",
    "\n",
    "buffering : 如果 buffering 的值被设为 0，就不会有寄存。如果 buffering 的值取 1，访问文件时会寄存行。如果将 buffering 的值设为大于 1 的整数，表明了这就是的寄存区的缓冲大小。如果取负值，寄存区的缓冲大小则为系统默认。\n",
    "\n",
    "file.read([size])：size 未指定则返回整个文件，如果文件大小 >2 倍内存则有问题，f.read()读到文件尾时返回\"\"(空字串)。\n",
    "\n",
    "参见：《Python open() 函数》\n",
    "https://www.runoob.com/python/python-func-open.html"
   ]
  },
  {
   "cell_type": "markdown",
   "metadata": {},
   "source": [
    "struct\n",
    "\n",
    "参见：《struct》https://www.liaoxuefeng.com/wiki/1016959663602400/1017685387246080\n",
    "\n",
    "《Python: struct.pack_into 和 struct.unpack_from 函数学习》https://blog.csdn.net/yourenshuo/article/details/84897404"
   ]
  },
  {
   "cell_type": "code",
   "execution_count": 19,
   "metadata": {},
   "outputs": [],
   "source": [
    "def decode_idx3_ubyte(idx3_ubyte_file):\n",
    "    \"\"\"\n",
    "    解析idx3文件的通用函数\n",
    "    :param idx3_ubyte_file: idx3文件路径\n",
    "    :return: 数据集\n",
    "    \n",
    "    TRAINING SET IMAGE FILE (train-images-idx3-ubyte):\n",
    "    [offset] [type]          [value]          [description]\n",
    "    0000     32 bit integer  0x00000803(2051) magic number\n",
    "    0004     32 bit integer  60000            number of images\n",
    "    0008     32 bit integer  28               number of rows\n",
    "    0012     32 bit integer  28               number of columns\n",
    "    0016     unsigned byte   ??               pixel\n",
    "    0017     unsigned byte   ??               pixel\n",
    "    ........\n",
    "    xxxx     unsigned byte   ??               pixel\n",
    "    Pixels are organized row-wise. Pixel values are 0 to 255. 0 means background (white), 255 means foreground (black). \n",
    "    \n",
    "    TEST SET IMAGE FILE (t10k-images-idx3-ubyte):\n",
    "    [offset] [type]          [value]          [description]\n",
    "    0000     32 bit integer  0x00000803(2051) magic number\n",
    "    0004     32 bit integer  10000            number of images\n",
    "    0008     32 bit integer  28               number of rows\n",
    "    0012     32 bit integer  28               number of columns\n",
    "    0016     unsigned byte   ??               pixel\n",
    "    0017     unsigned byte   ??               pixel\n",
    "    ........\n",
    "    xxxx     unsigned byte   ??               pixel\n",
    "    Pixels are organized row-wise. Pixel values are 0 to 255. 0 means background (white), 255 means foreground (black).\n",
    "    \"\"\"\n",
    "    # 读取二进制数据\n",
    "    bin_data = open(idx3_ubyte_file, 'rb').read() # 以二进制格式打开，用于只读。返回整个文件\n",
    "    \n",
    "    # 取得幻数值，按四字节十六进制存储\n",
    "    magic_number =''\n",
    "    for s in bin_data[:4]:       # 此处s为整型数\n",
    "        s=struct.pack('B',s)     # s转换为字节型\n",
    "        magic_number += s.hex()  # 四个字节合成字符串\n",
    "    #print(magic_number)\n",
    "\n",
    "    # 解析文件头信息，依次为图片数量、每张图片高、每张图片宽，按十进制存储\n",
    "    offset = 4    # 除去四个字节的幻数，从维度大小开始。\n",
    "    fmt_header = '>iii' # 3个维度的大小都是4字节整型\n",
    "    # 按照 fmt_header 指定的格式，从偏移位置 offset 开始，对 bin_data 解包\n",
    "    num_images, num_rows, num_cols = struct.unpack_from(fmt_header, bin_data, offset)\n",
    "    print ('幻数:0x%s, 图片数量: %d张, 图片大小: %d*%d' % (magic_number, num_images, num_rows, num_cols))\n",
    " \n",
    "    # 解析数据集\n",
    "    image_size = num_rows * num_cols\n",
    "    offset += struct.calcsize(fmt_header) # 除去文件头，从数据处开始\n",
    "    #fmt_image = '>' + str(image_size) + 'B' # 每幅图像的数据格式均为：28*28个字节\n",
    "    fmt_image = str(image_size) + 'B' # 每幅图像的数据格式均为：28*28个字节\n",
    "    images = np.empty((num_images, num_rows, num_cols)) # 3维空矩阵（60000,28,28）\n",
    "    '''\n",
    "    images的格式为如下形式：\n",
    "    [[[a000000000,a000000001,a000000002 ... a000000027], #图片1的第1行数据\n",
    "      [a000000100,a000000101,a000000102 ... a000000127], #图片1的第2行数据\n",
    "      ...\n",
    "      [a000002700,a000002701,a000002702 ... a000002727]],#图片1的最后一行数据\n",
    "      \n",
    "     [[a000010000,a000010001,a000010002 ... a000010027], #图片2的第1行数据\n",
    "      [a000010100,a000010101,a000010102 ... a000010127], #图片2的第2行数据\n",
    "      ...\n",
    "      [a000012700,a000012701,a000012702 ... a000012727]],#图片2的最后一行数据\n",
    "     ...\n",
    "     [[a599990000,a599990001,a599990002 ... a599990027], #图片60000的第1行数据\n",
    "      [a599990100,a599990101,a599990102 ... a599990127], #图片60000的第2行数据\n",
    "      ...\n",
    "      [a599992700,a599992701,a599992702 ... a599992727]]]#图片60000的最后一行数据\n",
    "    '''\n",
    "    for i in range(num_images):\n",
    "        images[i] = np.array(struct.unpack_from(fmt_image, bin_data, offset)).reshape((num_rows, num_cols))\n",
    "        offset += struct.calcsize(fmt_image)\n",
    "        if (i + 1) % 10000 == 0:\n",
    "            print('已解析 %d' % (i + 1) + '张')\n",
    "    return images\n",
    " "
   ]
  },
  {
   "cell_type": "code",
   "execution_count": 7,
   "metadata": {},
   "outputs": [],
   "source": [
    "def decode_idx1_ubyte(idx1_ubyte_file):\n",
    "    \"\"\"\n",
    "    解析idx1文件的通用函数\n",
    "    :param idx1_ubyte_file: idx1文件路径\n",
    "    :return: 数据集\n",
    "    \n",
    "    TRAINING SET LABEL FILE (train-labels-idx1-ubyte):\n",
    "    [offset] [type]          [value]          [description]\n",
    "    0000     32 bit integer  0x00000801(2049) magic number (MSB first)\n",
    "    0004     32 bit integer  60000            number of items\n",
    "    0008     unsigned byte   ??               label\n",
    "    0009     unsigned byte   ??               label\n",
    "    ........\n",
    "    xxxx     unsigned byte   ??               label\n",
    "    The labels values are 0 to 9.\n",
    "    \n",
    "    TEST SET LABEL FILE (t10k-labels-idx1-ubyte):\n",
    "    [offset] [type]          [value]          [description]\n",
    "    0000     32 bit integer  0x00000801(2049) magic number (MSB first)\n",
    "    0004     32 bit integer  10000            number of items\n",
    "    0008     unsigned byte   ??               label\n",
    "    0009     unsigned byte   ??               label\n",
    "    ........\n",
    "    xxxx     unsigned byte   ??               label\n",
    "    The labels values are 0 to 9.\n",
    "    \n",
    "    \"\"\"\n",
    "    # 读取二进制数据\n",
    "    bin_data = open(idx1_ubyte_file, 'rb').read()\n",
    "\n",
    "    # 取得幻数值，按四字节十六进制存储\n",
    "    magic_number =''\n",
    "    for s in bin_data[:4]:       # 此处s为整型数\n",
    "        s=struct.pack('B',s)     # s转换为字节型\n",
    "        magic_number += s.hex()  # 四个字节合成字符串\n",
    "    #print(magic_number)\n",
    "\n",
    "    # 解析文件头信息--标签数量\n",
    "    offset = 4    # 除去四个字节的幻数，从维度大小开始。\n",
    "    fmt_header = '>i'\n",
    "    # 按照 fmt_header 指定的格式，从偏移位置 offset 开始，对 bin_data 解包\n",
    "    num_images = struct.unpack_from(fmt_header, bin_data, offset)\n",
    "    print('幻数:0x%s, 图片数量: %d张' % (magic_number, num_images[0]))\n",
    "    # 解析数据集\n",
    "    offset += struct.calcsize(fmt_header) # 除去文件头，从数据处开始\n",
    "    fmt_image = 'B'\n",
    "    labels = np.empty(num_images)\n",
    "    for i in range(num_images[0]):\n",
    "        labels[i] = struct.unpack_from(fmt_image, bin_data, offset)[0]\n",
    "        offset += struct.calcsize(fmt_image)\n",
    "        if (i + 1) % 10000 == 0:\n",
    "            print('已解析 %d' % (i + 1) + '张')\n",
    "    return labels"
   ]
  },
  {
   "cell_type": "code",
   "execution_count": 20,
   "metadata": {},
   "outputs": [],
   "source": [
    "def load_train_images(idx_ubyte_file=train_images_file):\n",
    "     return decode_idx3_ubyte(idx_ubyte_file)\n",
    "    \n",
    "def load_train_labels(idx_ubyte_file=train_labels_file):\n",
    "    return decode_idx1_ubyte(idx_ubyte_file)\n",
    "\n",
    "def load_test_images(idx_ubyte_file=test_images_file):\n",
    "    return decode_idx3_ubyte(idx_ubyte_file)\n",
    "\n",
    "def load_test_labels(idx_ubyte_file=test_labels_file):\n",
    "    return decode_idx1_ubyte(idx_ubyte_file)"
   ]
  },
  {
   "cell_type": "code",
   "execution_count": 21,
   "metadata": {},
   "outputs": [
    {
     "name": "stdout",
     "output_type": "stream",
     "text": [
      "幻数:0x00000803, 图片数量: 60000张, 图片大小: 28*28\n",
      "已解析 10000张\n",
      "已解析 20000张\n",
      "已解析 30000张\n",
      "已解析 40000张\n",
      "已解析 50000张\n",
      "已解析 60000张\n",
      "幻数:0x00000801, 图片数量: 60000张\n",
      "已解析 10000张\n",
      "已解析 20000张\n",
      "已解析 30000张\n",
      "已解析 40000张\n",
      "已解析 50000张\n",
      "已解析 60000张\n"
     ]
    }
   ],
   "source": [
    "train_images = load_train_images()\n",
    "train_labels = load_train_labels()\n",
    "# test_images = load_test_images()\n",
    "# test_labels = load_test_labels()"
   ]
  },
  {
   "cell_type": "markdown",
   "metadata": {},
   "source": [
    "matplotlib.pyplot.imshow()函数的官方说明见 https://matplotlib.org/api/pyplot_api.html#matplotlib.pyplot.imshow\n",
    "\n",
    "cmap为字符串型，可能的取值如下：  \n",
    "Accent,Accent_r,  \n",
    "Blues,Blues_r,BrBG,BrBG_r,BuGn,BuGn_r,BuPu,BuPu_r,  \n",
    "CMRmap,CMRmap_r,  \n",
    "Dark2,Dark2_r,  \n",
    "GnBu,GnBu_r,Greens,Greens_r,Greys,Greys_r,  \n",
    "OrRd,OrRd_r,Oranges,Oranges_r,  \n",
    "PRGn,PRGn_r,Paired,Paired_r,Pastel1,Pastel1_r,Pastel2,Pastel2_r, \n",
    "PiYG,PiYG_r,PuBu,PuBuGn,PuBuGn_r,PuBu_r,PuOr,PuOr_r,PuRd,PuRd_r,Purples,Purples_r,  \n",
    "RdBu,RdBu_r,RdGy,RdGy_r,RdPu,RdPu_r,RdYlBu,RdYlBu_r,RdYlGn,RdYlGn_r,Reds,Reds_r,  \n",
    "Set1,Set1_r,Set2,Set2_r,Set3,Set3_r,Spectral,Spectral_r,  \n",
    "Wistia,Wistia_r,  \n",
    "YlGn,YlGnBu,YlGnBu_r,YlGn_r,YlOrBr,YlOrBr_r,YlOrRd,YlOrRd_r,  \n",
    "\n",
    "afmhot, afmhot_r, autumn, autumn_r,  \n",
    "binary, binary_r, bone, bone_r, brg, brg_r, bwr, bwr_r,  \n",
    "cividis, cividis_r, cool, cool_r, coolwarm, coolwarm_r, copper, copper_r, cubehelix, cubehelix_r,  \n",
    "flag, flag_r,  \n",
    "gist_earth, gist_earth_r, gist_gray, gist_gray_r, gist_heat, gist_heat_r, gist_ncar, gist_ncar_r, gist_rainbow, gist_rainbow_r, gist_stern, gist_stern_r, gist_yarg, gist_yarg_r, gnuplot, gnuplot2, gnuplot2_r, gnuplot_r, gray, gray_r,  \n",
    "hot, hot_r, hsv, hsv_r,  \n",
    "inferno, inferno_r,  \n",
    "jet, jet_r,  \n",
    "magma, magma_r,  \n",
    "nipy_spectral, nipy_spectral_r,  \n",
    "ocean, ocean_r,  \n",
    "pink, pink_r, plasma, plasma_r, prism, prism_r,  \n",
    "rainbow, rainbow_r,  \n",
    "seismic, seismic_r, spring, spring_r, summer, summer_r,  \n",
    "tab10, tab10_r, tab20, tab20_r, tab20b, tab20b_r, tab20c, tab20c_r, terrain, terrain_r,  \n",
    "viridis, viridis_r,  \n",
    "winter, winter_r"
   ]
  },
  {
   "cell_type": "code",
   "execution_count": 45,
   "metadata": {},
   "outputs": [],
   "source": [
    "def run():\n",
    "    # 随机查看十个数据及其标签进行显示\n",
    "    for i in random.sample(range(60000),10):\n",
    "        print('序号：%d；标签：%d' %(i,train_labels[i]))\n",
    "        plt.imshow(train_images[i], cmap='gray')\n",
    "        #plt.imshow(train_images[i], cmap='cool')\n",
    "        plt.show()\n",
    "    print('done')"
   ]
  },
  {
   "cell_type": "markdown",
   "metadata": {},
   "source": [
    "&#95;&#95;name__是内置变量。当直接运行本模块时，其值等于'&#95;&#95;main__'，如果导入本模块，则其值不等于'&#95;&#95;main__'"
   ]
  },
  {
   "cell_type": "code",
   "execution_count": 46,
   "metadata": {},
   "outputs": [
    {
     "name": "stdout",
     "output_type": "stream",
     "text": [
      "序号：49835；标签：0\n"
     ]
    },
    {
     "data": {
      "image/png": "[encoded data removed]",
      "text/plain": [
       "<Figure size 432x288 with 1 Axes>"
      ]
     },
     "metadata": {
      "needs_background": "light"
     },
     "output_type": "display_data"
    },
    {
     "name": "stdout",
     "output_type": "stream",
     "text": [
      "序号：53337；标签：9\n"
     ]
    },
    {
     "data": {
      "image/png": "[encoded data removed]",
      "text/plain": [
       "<Figure size 432x288 with 1 Axes>"
      ]
     },
     "metadata": {
      "needs_background": "light"
     },
     "output_type": "display_data"
    },
    {
     "name": "stdout",
     "output_type": "stream",
     "text": [
      "序号：32145；标签：7\n"
     ]
    },
    {
     "data": {
      "image/png": "[encoded data removed]",
      "text/plain": [
       "<Figure size 432x288 with 1 Axes>"
      ]
     },
     "metadata": {
      "needs_background": "light"
     },
     "output_type": "display_data"
    },
    {
     "name": "stdout",
     "output_type": "stream",
     "text": [
      "序号：28139；标签：4\n"
     ]
    },
    {
     "data": {
      "image/png": "[encoded data removed]",
      "text/plain": [
       "<Figure size 432x288 with 1 Axes>"
      ]
     },
     "metadata": {
      "needs_background": "light"
     },
     "output_type": "display_data"
    },
    {
     "name": "stdout",
     "output_type": "stream",
     "text": [
      "序号：42008；标签：0\n"
     ]
    },
    {
     "data": {
      "image/png": "[encoded data removed]",
      "text/plain": [
       "<Figure size 432x288 with 1 Axes>"
      ]
     },
     "metadata": {
      "needs_background": "light"
     },
     "output_type": "display_data"
    },
    {
     "name": "stdout",
     "output_type": "stream",
     "text": [
      "序号：55602；标签：5\n"
     ]
    },
    {
     "data": {
      "image/png": "[encoded data removed]",
      "text/plain": [
       "<Figure size 432x288 with 1 Axes>"
      ]
     },
     "metadata": {
      "needs_background": "light"
     },
     "output_type": "display_data"
    },
    {
     "name": "stdout",
     "output_type": "stream",
     "text": [
      "序号：15591；标签：6\n"
     ]
    },
    {
     "data": {
      "image/png": "[encoded data removed]",
      "text/plain": [
       "<Figure size 432x288 with 1 Axes>"
      ]
     },
     "metadata": {
      "needs_background": "light"
     },
     "output_type": "display_data"
    },
    {
     "name": "stdout",
     "output_type": "stream",
     "text": [
      "序号：47279；标签：1\n"
     ]
    },
    {
     "data": {
      "image/png": "[encoded data removed]",
      "text/plain": [
       "<Figure size 432x288 with 1 Axes>"
      ]
     },
     "metadata": {
      "needs_background": "light"
     },
     "output_type": "display_data"
    },
    {
     "name": "stdout",
     "output_type": "stream",
     "text": [
      "序号：17479；标签：0\n"
     ]
    },
    {
     "data": {
      "image/png": "[encoded data removed]",
      "text/plain": [
       "<Figure size 432x288 with 1 Axes>"
      ]
     },
     "metadata": {
      "needs_background": "light"
     },
     "output_type": "display_data"
    },
    {
     "name": "stdout",
     "output_type": "stream",
     "text": [
      "序号：10494；标签：4\n"
     ]
    },
    {
     "data": {
      "image/png": "[encoded data removed]",
      "text/plain": [
       "<Figure size 432x288 with 1 Axes>"
      ]
     },
     "metadata": {
      "needs_background": "light"
     },
     "output_type": "display_data"
    },
    {
     "name": "stdout",
     "output_type": "stream",
     "text": [
      "done\n"
     ]
    }
   ],
   "source": [
    "# 直接运行本模块时，执行 run()\n",
    "if __name__ == '__main__':\n",
    "    run()"
   ]
  },
  {
   "cell_type": "code",
   "execution_count": null,
   "metadata": {},
   "outputs": [],
   "source": []
  }
 ],
 "metadata": {
  "kernelspec": {
   "display_name": "Python 3",
   "language": "python",
   "name": "python3"
  },
  "language_info": {
   "codemirror_mode": {
    "name": "ipython",
    "version": 3
   },
   "file_extension": ".py",
   "mimetype": "text/x-python",
   "name": "python",
   "nbconvert_exporter": "python",
   "pygments_lexer": "ipython3",
   "version": "3.7.0"
  }
 },
 "nbformat": 4,
 "nbformat_minor": 2
}
