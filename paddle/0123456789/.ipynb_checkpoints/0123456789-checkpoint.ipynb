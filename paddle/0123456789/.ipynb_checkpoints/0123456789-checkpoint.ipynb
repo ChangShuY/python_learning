{
 "cells": [
  {
   "cell_type": "markdown",
   "metadata": {},
   "source": [
    "百度飞浆/新手入门/深度学习基础教程/数字识别  \n",
    "https://www.paddlepaddle.org.cn/documentation/docs/zh/beginners_guide/basics/recognize_digits/README.cn.html  \n",
    "\n",
    "学习笔记 在Jupyter Notebook/Python3下编写\n",
    "\n",
    "CSY 2019-12-19"
   ]
  },
  {
   "cell_type": "markdown",
   "metadata": {},
   "source": [
    "### &#95;&#95;future__模块  \n",
    "由于Python是由社区推动的开源并且免费的开发语言，不受商业公司控制，因此，Python的改进往往比较激进，不兼容的情况时有发生。Python为了确保你能顺利过渡到新版本，特别提供了&#95;&#95;future__模块，让你在旧的版本中试验新版本的一些特性。\n",
    "\n",
    "### os模块  \n",
    "一个用于访问操作系统功能的模块。  \n",
    "例如: \n",
    "因为变量 &#95;&#95;file__ 返回当前文件的路径和文件名，则 \n",
    "os.path.dirname(&#95;&#95;file__) 当前文件的绝对路径（不含文件名）"
   ]
  },
  {
   "cell_type": "code",
   "execution_count": 1,
   "metadata": {},
   "outputs": [],
   "source": [
    "# 我已经使用了Python3的版本了，所以注释了下句\n",
    "#from __future__ import print_function # 将python3中的print特性导入当前版本\n",
    "import os\n",
    "from PIL import Image # 导入图像处理模块\n",
    "import matplotlib.pyplot as plt\n",
    "import numpy\n",
    "# 用到paddle模块的地方都可改为使用paddle.fluid模块处理，所以注释了下句\n",
    "#import paddle # 导入paddle模块\n",
    "import paddle.fluid as fluid"
   ]
  },
  {
   "cell_type": "markdown",
   "metadata": {},
   "source": [
    "### 关于paddle.fluid.data()    \n",
    "https://www.paddlepaddle.org.cn/documentation/docs/zh/api_cn/fluid_cn/data_cn.html\n",
    "\n",
    "\n",
    "paddle.fluid.data()是一个OP（算子），作用就是创建一个全局变量，可供计算图中的算子访问，可作为占位符用于数据输入。可以视为输入层或data层?    \n",
    "name 是paddle.fluid.data()创建的全局变量的名字,是输入层输出的前缀标识。   \n",
    "shape 声明了paddle.fluid.data()创建的全局变量的维度信息。  \n",
    "shape中的None 表示不确定该维的元素数量，待程序执行中确定。  \n",
    "shape中的-1 只能在shape的最前面，表示可以适应任何 batch size  \n",
    "dtype 是paddle.fluid.data()创建的全局变量的数据类型，支持 bool,float16,float32,float64,int8,int16,int32,int64。  \n",
    "用户 feed 的数据必须与 paddle.fluid.data() 创建的变量具有相同的 shape  \n",
    "虽然feed的数据，其类型是unsigned Byte,但softmax 回归是要进行浮点运算的，所以数据类型都转换成了float32"
   ]
  },
  {
   "cell_type": "markdown",
   "metadata": {},
   "source": [
    "### 关于paddle.fluid.layers.fc()  \n",
    "https://www.paddlepaddle.org.cn/documentation/docs/zh/api_cn/layers_cn/fc_cn.html\n",
    "\n",
    "paddle.fluid.layers.fc()是一个OP，作用就是建立一个全连接层。为每个输入的Tensor创建一个权重变量，即一个从每个输入单元到每个输出单元的全连接权重矩阵。  \n",
    "FC层将每个输入Tensor和其对应的权重(weights)相乘得到shape为 [M,size] 输出Tensor，其中 M 为batch_size大小。如果有多个输入Tensor，则多个shape为 [M,size] 的Tensor计算结果会被累加起来，作为最终输出。\n",
    "仅有一个全连接层的网络，全连接层的input数据通常由paddle.fluid.data()产生。  "
   ]
  },
  {
   "cell_type": "code",
   "execution_count": null,
   "metadata": {},
   "outputs": [],
   "source": [
    "def softmax_regression():\n",
    "    \"\"\"\n",
    "    定义softmax分类器：\n",
    "        一个以softmax为激活函数的全连接层\n",
    "    Return:\n",
    "        predict_image -- 分类的结果\n",
    "    \"\"\"\n",
    "    # 输入的原始图像数据，大小为28*28*1\n",
    "    # shape的维度分别表示：batch大小=None,?=1，图像的高度=28，图像的宽度=28\n",
    "    img = fluid.data(name='img', shape=[None, 1, 28, 28], dtype='float32')\n",
    "    # 以softmax为激活函数的全连接层，输出层的大小必须为数字的个数10\n",
    "    # predict.shape=(-1,10)\n",
    "    predict = fluid.layers.fc(\n",
    "        input=img, size=10, act='softmax')\n",
    "    return predict"
   ]
  },
  {
   "cell_type": "markdown",
   "metadata": {},
   "source": [
    "理解全连接层fc"
   ]
  },
  {
   "cell_type": "code",
   "execution_count": 1,
   "metadata": {},
   "outputs": [],
   "source": [
    "import paddle.fluid as fluid"
   ]
  },
  {
   "cell_type": "markdown",
   "metadata": {},
   "source": [
    "例1.https://www.paddlepaddle.org.cn/documentation/docs/zh/api_cn/layers_cn/fc_cn.html"
   ]
  },
  {
   "cell_type": "code",
   "execution_count": 3,
   "metadata": {
    "scrolled": true
   },
   "outputs": [
    {
     "ename": "NameError",
     "evalue": "name 'data_1' is not defined",
     "output_type": "error",
     "traceback": [
      "\u001b[0;31m---------------------------------------------------------------------------\u001b[0m",
      "\u001b[0;31mNameError\u001b[0m                                 Traceback (most recent call last)",
      "\u001b[0;32m<ipython-input-3-75a9852da28f>\u001b[0m in \u001b[0;36m<module>\u001b[0;34m()\u001b[0m\n\u001b[0;32m----> 1\u001b[0;31m \u001b[0mdata_1\u001b[0m\u001b[0;34m.\u001b[0m\u001b[0mdata\u001b[0m \u001b[0;34m=\u001b[0m \u001b[0;34m[\u001b[0m\u001b[0;34m[\u001b[0m\u001b[0;34m[\u001b[0m\u001b[0;36m0.1\u001b[0m\u001b[0;34m,\u001b[0m \u001b[0;36m0.2\u001b[0m\u001b[0;34m]\u001b[0m\u001b[0;34m,\u001b[0m\u001b[0;34m[\u001b[0m\u001b[0;36m0.3\u001b[0m\u001b[0;34m,\u001b[0m \u001b[0;36m0.4\u001b[0m\u001b[0;34m]\u001b[0m\u001b[0;34m]\u001b[0m\u001b[0;34m]\u001b[0m\u001b[0;34m\u001b[0m\u001b[0m\n\u001b[0m\u001b[1;32m      2\u001b[0m \u001b[0mdata_1\u001b[0m\u001b[0;34m.\u001b[0m\u001b[0mshape\u001b[0m \u001b[0;34m=\u001b[0m \u001b[0;34m(\u001b[0m\u001b[0;36m1\u001b[0m\u001b[0;34m,\u001b[0m \u001b[0;36m2\u001b[0m\u001b[0;34m,\u001b[0m \u001b[0;36m2\u001b[0m\u001b[0;34m)\u001b[0m \u001b[0;31m# 1是batch_size\u001b[0m\u001b[0;34m\u001b[0m\u001b[0m\n\u001b[1;32m      3\u001b[0m \u001b[0mout\u001b[0m \u001b[0;34m=\u001b[0m \u001b[0mfluid\u001b[0m\u001b[0;34m.\u001b[0m\u001b[0mlayers\u001b[0m\u001b[0;34m.\u001b[0m\u001b[0mfc\u001b[0m\u001b[0;34m(\u001b[0m\u001b[0minput\u001b[0m\u001b[0;34m=\u001b[0m\u001b[0mdata_1\u001b[0m\u001b[0;34m,\u001b[0m \u001b[0msize\u001b[0m\u001b[0;34m=\u001b[0m\u001b[0;36m1\u001b[0m\u001b[0;34m,\u001b[0m\u001b[0mnum_flatten_dims\u001b[0m\u001b[0;34m=\u001b[0m\u001b[0;36m2\u001b[0m\u001b[0;34m)\u001b[0m\u001b[0;34m\u001b[0m\u001b[0m\n\u001b[1;32m      4\u001b[0m \u001b[0mprint\u001b[0m\u001b[0;34m(\u001b[0m\u001b[0mout\u001b[0m\u001b[0;34m.\u001b[0m\u001b[0mdata\u001b[0m\u001b[0;34m)\u001b[0m \u001b[0;31m# out.data = [[0.83234344], [0.34936576]]\u001b[0m\u001b[0;34m\u001b[0m\u001b[0m\n\u001b[1;32m      5\u001b[0m \u001b[0mout\u001b[0m\u001b[0;34m.\u001b[0m\u001b[0mshape\u001b[0m \u001b[0;31m#  out.shape = (1, 2, 1)\u001b[0m\u001b[0;34m\u001b[0m\u001b[0m\n",
      "\u001b[0;31mNameError\u001b[0m: name 'data_1' is not defined"
     ]
    }
   ],
   "source": [
    "data_1.data = [[[0.1, 0.2],[0.3, 0.4]]]\n",
    "data_1.shape = (1, 2, 2) # 1是batch_size\n",
    "out = fluid.layers.fc(input=data_1, size=1,num_flatten_dims=2)\n",
    "print(out.data) # out.data = [[0.83234344], [0.34936576]]\n",
    "out.shape #  out.shape = (1, 2, 1)"
   ]
  },
  {
   "cell_type": "markdown",
   "metadata": {},
   "source": [
    "例2 最简单的完整的全连接层"
   ]
  },
  {
   "cell_type": "code",
   "execution_count": 1,
   "metadata": {},
   "outputs": [],
   "source": [
    "import paddle.fluid as fluid\n",
    "import numpy"
   ]
  },
  {
   "cell_type": "code",
   "execution_count": 3,
   "metadata": {},
   "outputs": [
    {
     "name": "stdout",
     "output_type": "stream",
     "text": [
      "(4, 1) <memory at 0x7f3bd427b2d0>\n"
     ]
    }
   ],
   "source": [
    "#定义训练数据\n",
    "data1=numpy.array([[1.0],[2.0],[3.0],[4.0]]).astype('float32')\n",
    "data2=numpy.array([[2.0],[4.0],[6.0],[8.0]]).astype('float32')\n",
    "print(data1.shape,data1.data)\n",
    "#定义输入层\n",
    "x=fluid.layers.data(name=\"x\",shape=[1],dtype='float32') # 返回值就是x，是否赋给一个变量无所谓\n",
    "y = fluid.layers.fc(input=x,size=1,act=None)\n",
    "\n",
    "#data_out = fluid.layers.data(name=\"x\",shape=[1],dtype='float32') # 返回值就是x，是否赋给一个变量无所谓\n",
    "#y = fluid.layers.fc(input=data_out,size=1,act=None)"
   ]
  },
  {
   "cell_type": "code",
   "execution_count": 4,
   "metadata": {},
   "outputs": [
    {
     "data": {
      "text/plain": [
       "[]"
      ]
     },
     "execution_count": 4,
     "metadata": {},
     "output_type": "execute_result"
    }
   ],
   "source": [
    "cpu = fluid.core.CPUPlace()\n",
    "exe = fluid.Executor(cpu)\n",
    "exe.run(fluid.default_startup_program())"
   ]
  },
  {
   "cell_type": "markdown",
   "metadata": {},
   "source": [
    "https://www.paddlepaddle.org.cn/documentation/docs/zh/api_cn/executor_cn/Executor_cn.html  \n",
    "out为run返回的fetch_list指定的变量值"
   ]
  },
  {
   "cell_type": "code",
   "execution_count": 6,
   "metadata": {},
   "outputs": [
    {
     "data": {
      "text/plain": [
       "[]"
      ]
     },
     "execution_count": 6,
     "metadata": {},
     "output_type": "execute_result"
    }
   ],
   "source": [
    "out = exe.run(feed={'x':data1},fetch_list=None)\n",
    "out"
   ]
  },
  {
   "cell_type": "code",
   "execution_count": 7,
   "metadata": {},
   "outputs": [
    {
     "data": {
      "text/plain": [
       "[array([[-0.90461826],\n",
       "        [-1.8092365 ],\n",
       "        [-2.7138548 ],\n",
       "        [-3.618473  ]], dtype=float32)]"
      ]
     },
     "execution_count": 7,
     "metadata": {},
     "output_type": "execute_result"
    }
   ],
   "source": [
    "out = exe.run(feed={'x':data2},fetch_list=[y]) # 返回全连接层的输出\n",
    "out"
   ]
  },
  {
   "cell_type": "code",
   "execution_count": null,
   "metadata": {},
   "outputs": [],
   "source": []
  }
 ],
 "metadata": {
  "kernelspec": {
   "display_name": "Python 3",
   "language": "python",
   "name": "python3"
  },
  "language_info": {
   "codemirror_mode": {
    "name": "ipython",
    "version": 3
   },
   "file_extension": ".py",
   "mimetype": "text/x-python",
   "name": "python",
   "nbconvert_exporter": "python",
   "pygments_lexer": "ipython3",
   "version": "3.7.0"
  }
 },
 "nbformat": 4,
 "nbformat_minor": 2
}
