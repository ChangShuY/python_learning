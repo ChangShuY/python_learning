{
 "cells": [
  {
   "cell_type": "markdown",
   "metadata": {},
   "source": [
    "# fluid 的数据输入方式"
   ]
  },
  {
   "cell_type": "markdown",
   "metadata": {},
   "source": [
    "## 例1 直接输入数据  "
   ]
  },
  {
   "cell_type": "markdown",
   "metadata": {},
   "source": [
    "CSY 2020-1-27  \n",
    "简单起见，以一个线性的全连接层为例，没有设计标签输入和反向网络  \n",
    "程序另存为direct_feed.py  \n",
    "本例已收入博客 https://blog.csdn.net/aLife2P6/article/details/104092231"
   ]
  },
  {
   "cell_type": "markdown",
   "metadata": {},
   "source": [
    "###  加载必要的软件包"
   ]
  },
  {
   "cell_type": "code",
   "execution_count": 1,
   "metadata": {},
   "outputs": [],
   "source": [
    "import paddle.fluid as fluid\n",
    "import numpy"
   ]
  },
  {
   "cell_type": "markdown",
   "metadata": {},
   "source": [
    "### 产生训练数据--给网络准备食物 "
   ]
  },
  {
   "cell_type": "markdown",
   "metadata": {},
   "source": [
    "神经网络挑食，要求数据是Tensor，最简单的食物就是Numpy的Array数组。  \n",
    "参考网址：https://www.paddlepaddle.org.cn/documentation/docs/zh/user_guides/howto/basic_concept/tensor.html#tensor  \n",
    "神经网络不仅挑食材，还挑口味, 主要是float32。详见：https://www.paddlepaddle.org.cn/documentation/docs/zh/user_guides/howto/prepare_data/feeding_data.html#fluid"
   ]
  },
  {
   "cell_type": "code",
   "execution_count": 2,
   "metadata": {},
   "outputs": [
    {
     "name": "stdout",
     "output_type": "stream",
     "text": [
      "(4, 1)\n"
     ]
    }
   ],
   "source": [
    "train_data=numpy.array([[1.0],[2.0],[3.0],[4.0]]).astype('float32') # 食物的shape=(4,1)，type='float32'\n",
    "print(train_data.shape)"
   ]
  },
  {
   "cell_type": "markdown",
   "metadata": {},
   "source": [
    "### 配置输入接口--设计网络的嘴巴  "
   ]
  },
  {
   "cell_type": "markdown",
   "metadata": {},
   "source": [
    "嘴巴的大小和形状要和喂入的食物吻合  \n",
    "shape中的None表示可以是任意正整数。 \n",
    "None可以用-1代替，作用相同； \n",
    "本例中None也可以用4代替，这样和训练的食物相同，但是以后用模型预测时，食物的shape就只能是[4,1]"
   ]
  },
  {
   "cell_type": "code",
   "execution_count": 3,
   "metadata": {},
   "outputs": [],
   "source": [
    "x = fluid.data(name=\"x\",shape=[None,1],dtype='float32') # 嘴巴的shape容纳了食物的shape。"
   ]
  },
  {
   "cell_type": "markdown",
   "metadata": {},
   "source": [
    "### 配置网络--设计一个输出的全连接层"
   ]
  },
  {
   "cell_type": "markdown",
   "metadata": {},
   "source": [
    "对应一个x输入，网络就会产生一个预测值，预测值y_predict=ax,  \n",
    "此处的权重a由初始化产生，训练时自动调整。  \n",
    "由于本网络省去了反向网络，没有学习能力，a只与初始化程序有关。"
   ]
  },
  {
   "cell_type": "code",
   "execution_count": 4,
   "metadata": {},
   "outputs": [],
   "source": [
    "y_predict = fluid.layers.fc(input=x,size=1,act=None)"
   ]
  },
  {
   "cell_type": "markdown",
   "metadata": {},
   "source": [
    "### 初始化参数"
   ]
  },
  {
   "cell_type": "code",
   "execution_count": 5,
   "metadata": {},
   "outputs": [
    {
     "data": {
      "text/plain": [
       "[]"
      ]
     },
     "execution_count": 5,
     "metadata": {},
     "output_type": "execute_result"
    }
   ],
   "source": [
    "cpu = fluid.core.CPUPlace() # 在cpu上操作\n",
    "exe = fluid.Executor(cpu)\n",
    "exe.run(fluid.default_startup_program()) # 运行执行器初始化网络参数（采用默认的初始化程序）"
   ]
  },
  {
   "cell_type": "markdown",
   "metadata": {},
   "source": [
    "### 开始训练"
   ]
  },
  {
   "cell_type": "markdown",
   "metadata": {},
   "source": [
    "训练的过程就是运行主程序的过程。  \n",
    "由于没有反向网络，多次训练结果没有变化。  \n",
    "我的环境下的a大约为-0.65"
   ]
  },
  {
   "cell_type": "code",
   "execution_count": 12,
   "metadata": {},
   "outputs": [
    {
     "name": "stdout",
     "output_type": "stream",
     "text": [
      "[array([[-0.6521425],\n",
      "       [-1.304285 ],\n",
      "       [-1.9564276],\n",
      "       [-2.60857  ]], dtype=float32)]\n",
      "[array([[-0.6521425],\n",
      "       [-1.304285 ],\n",
      "       [-1.9564276],\n",
      "       [-2.60857  ]], dtype=float32)]\n",
      "[array([[-0.6521425],\n",
      "       [-1.304285 ],\n",
      "       [-1.9564276],\n",
      "       [-2.60857  ]], dtype=float32)]\n"
     ]
    }
   ],
   "source": [
    "for i in range(3): \n",
    "    outs = exe.run( # 加载主程序运行执行器\n",
    "        feed={'x':train_data}, # 从名为x的嘴巴喂入train_data食物\n",
    "        fetch_list=[y_predict])\n",
    "    # 每次训练的结果\n",
    "    print(outs) # 输出列表仅有一个内容，就是out[0]=y_predict\n",
    "# 训练到最后一次的结果\n",
    "#print(outs) # 输出列表仅有一个内容，就是out[0]=y_predict"
   ]
  },
  {
   "cell_type": "markdown",
   "metadata": {},
   "source": [
    "## 例2"
   ]
  },
  {
   "cell_type": "markdown",
   "metadata": {},
   "source": [
    "CSY 2020-1-29"
   ]
  },
  {
   "cell_type": "markdown",
   "metadata": {},
   "source": [
    "PaddlePaddle根据Reader返回的数据形式的不同，可分为Batch级的Reader和样本级的Reader。  \n",
    "参考网址：https://www.paddlepaddle.org.cn/documentation/docs/zh/user_guides/howto/prepare_data/prepare_steps.html#user-guide-prepare-steps"
   ]
  },
  {
   "cell_type": "code",
   "execution_count": null,
   "metadata": {},
   "outputs": [],
   "source": []
  }
 ],
 "metadata": {
  "kernelspec": {
   "display_name": "Python 3",
   "language": "python",
   "name": "python3"
  },
  "language_info": {
   "codemirror_mode": {
    "name": "ipython",
    "version": 3
   },
   "file_extension": ".py",
   "mimetype": "text/x-python",
   "name": "python",
   "nbconvert_exporter": "python",
   "pygments_lexer": "ipython3",
   "version": "3.7.0"
  }
 },
 "nbformat": 4,
 "nbformat_minor": 2
}
