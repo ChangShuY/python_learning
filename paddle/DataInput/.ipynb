{
 "cells": [
  {
   "cell_type": "markdown",
   "metadata": {},
   "source": [
    "# 理解read和batch的例子"
   ]
  },
  {
   "cell_type": "markdown",
   "metadata": {},
   "source": [
    "加载例子中用到的软件包"
   ]
  },
  {
   "cell_type": "code",
   "execution_count": null,
   "metadata": {},
   "outputs": [],
   "source": [
    "import paddle.fluid as fluid\n",
    "import numpy as np"
   ]
  },
  {
   "cell_type": "code",
   "execution_count": 20,
   "metadata": {},
   "outputs": [],
   "source": [
    "def reader():\n",
    "    for i in range(10):\n",
    "        data_X = np.array(i).reshape(1, 1).astype(\"float32\")    \n",
    "        data_Y = np.array(i * 10 + 3).reshape(1, 1).astype(\"float32\")\n",
    "        yield data_X, data_Y    # 使用yield来返回单条数据"
   ]
  },
  {
   "cell_type": "code",
   "execution_count": 22,
   "metadata": {},
   "outputs": [
    {
     "name": "stdout",
     "output_type": "stream",
     "text": [
      "0\n",
      "0 (array([[0.]], dtype=float32), array([[3.]], dtype=float32))\n",
      "1 (array([[1.]], dtype=float32), array([[13.]], dtype=float32))\n",
      "2 (array([[2.]], dtype=float32), array([[23.]], dtype=float32))\n",
      "3 (array([[3.]], dtype=float32), array([[33.]], dtype=float32))\n",
      "4 (array([[4.]], dtype=float32), array([[43.]], dtype=float32))\n",
      "5 (array([[5.]], dtype=float32), array([[53.]], dtype=float32))\n",
      "6 (array([[6.]], dtype=float32), array([[63.]], dtype=float32))\n",
      "7 (array([[7.]], dtype=float32), array([[73.]], dtype=float32))\n",
      "8 (array([[8.]], dtype=float32), array([[83.]], dtype=float32))\n",
      "9 (array([[9.]], dtype=float32), array([[93.]], dtype=float32))\n",
      "1\n",
      "0 (array([[0.]], dtype=float32), array([[3.]], dtype=float32))\n",
      "1 (array([[1.]], dtype=float32), array([[13.]], dtype=float32))\n",
      "2 (array([[2.]], dtype=float32), array([[23.]], dtype=float32))\n",
      "3 (array([[3.]], dtype=float32), array([[33.]], dtype=float32))\n",
      "4 (array([[4.]], dtype=float32), array([[43.]], dtype=float32))\n",
      "5 (array([[5.]], dtype=float32), array([[53.]], dtype=float32))\n",
      "6 (array([[6.]], dtype=float32), array([[63.]], dtype=float32))\n",
      "7 (array([[7.]], dtype=float32), array([[73.]], dtype=float32))\n",
      "8 (array([[8.]], dtype=float32), array([[83.]], dtype=float32))\n",
      "9 (array([[9.]], dtype=float32), array([[93.]], dtype=float32))\n",
      "2\n",
      "0 (array([[0.]], dtype=float32), array([[3.]], dtype=float32))\n",
      "1 (array([[1.]], dtype=float32), array([[13.]], dtype=float32))\n",
      "2 (array([[2.]], dtype=float32), array([[23.]], dtype=float32))\n",
      "3 (array([[3.]], dtype=float32), array([[33.]], dtype=float32))\n",
      "4 (array([[4.]], dtype=float32), array([[43.]], dtype=float32))\n",
      "5 (array([[5.]], dtype=float32), array([[53.]], dtype=float32))\n",
      "6 (array([[6.]], dtype=float32), array([[63.]], dtype=float32))\n",
      "7 (array([[7.]], dtype=float32), array([[73.]], dtype=float32))\n",
      "8 (array([[8.]], dtype=float32), array([[83.]], dtype=float32))\n",
      "9 (array([[9.]], dtype=float32), array([[93.]], dtype=float32))\n"
     ]
    }
   ],
   "source": [
    "for i in range(3): # 把刚才的5道题的题库，练习100遍！\n",
    "    print(i)\n",
    "    m=0\n",
    "    for data in reader():  #从题库里每次抽出一道题\n",
    "        print(m,data)\n",
    "        m+=1"
   ]
  },
  {
   "cell_type": "code",
   "execution_count": 6,
   "metadata": {},
   "outputs": [],
   "source": [
    "train_reader = fluid.io.batch(reader=reader, batch_size=2) # 原文为paddle.batch"
   ]
  },
  {
   "cell_type": "code",
   "execution_count": 15,
   "metadata": {},
   "outputs": [
    {
     "name": "stdout",
     "output_type": "stream",
     "text": [
      "0\n",
      "1 [(array([[0.]], dtype=float32), array([[3.]], dtype=float32)), (array([[1.]], dtype=float32), array([[13.]], dtype=float32))] [[0.]] [[3.]] [[1.]] [[13.]]\n",
      "2 [(array([[2.]], dtype=float32), array([[23.]], dtype=float32)), (array([[3.]], dtype=float32), array([[33.]], dtype=float32))] [[2.]] [[23.]] [[3.]] [[33.]]\n",
      "3 [(array([[4.]], dtype=float32), array([[43.]], dtype=float32)), (array([[5.]], dtype=float32), array([[53.]], dtype=float32))] [[4.]] [[43.]] [[5.]] [[53.]]\n",
      "4 [(array([[6.]], dtype=float32), array([[63.]], dtype=float32)), (array([[7.]], dtype=float32), array([[73.]], dtype=float32))] [[6.]] [[63.]] [[7.]] [[73.]]\n",
      "5 [(array([[8.]], dtype=float32), array([[83.]], dtype=float32)), (array([[9.]], dtype=float32), array([[93.]], dtype=float32))] [[8.]] [[83.]] [[9.]] [[93.]]\n",
      "1\n",
      "1 [(array([[0.]], dtype=float32), array([[3.]], dtype=float32)), (array([[1.]], dtype=float32), array([[13.]], dtype=float32))] [[0.]] [[3.]] [[1.]] [[13.]]\n",
      "2 [(array([[2.]], dtype=float32), array([[23.]], dtype=float32)), (array([[3.]], dtype=float32), array([[33.]], dtype=float32))] [[2.]] [[23.]] [[3.]] [[33.]]\n",
      "3 [(array([[4.]], dtype=float32), array([[43.]], dtype=float32)), (array([[5.]], dtype=float32), array([[53.]], dtype=float32))] [[4.]] [[43.]] [[5.]] [[53.]]\n",
      "4 [(array([[6.]], dtype=float32), array([[63.]], dtype=float32)), (array([[7.]], dtype=float32), array([[73.]], dtype=float32))] [[6.]] [[63.]] [[7.]] [[73.]]\n",
      "5 [(array([[8.]], dtype=float32), array([[83.]], dtype=float32)), (array([[9.]], dtype=float32), array([[93.]], dtype=float32))] [[8.]] [[83.]] [[9.]] [[93.]]\n",
      "2\n",
      "1 [(array([[0.]], dtype=float32), array([[3.]], dtype=float32)), (array([[1.]], dtype=float32), array([[13.]], dtype=float32))] [[0.]] [[3.]] [[1.]] [[13.]]\n",
      "2 [(array([[2.]], dtype=float32), array([[23.]], dtype=float32)), (array([[3.]], dtype=float32), array([[33.]], dtype=float32))] [[2.]] [[23.]] [[3.]] [[33.]]\n",
      "3 [(array([[4.]], dtype=float32), array([[43.]], dtype=float32)), (array([[5.]], dtype=float32), array([[53.]], dtype=float32))] [[4.]] [[43.]] [[5.]] [[53.]]\n",
      "4 [(array([[6.]], dtype=float32), array([[63.]], dtype=float32)), (array([[7.]], dtype=float32), array([[73.]], dtype=float32))] [[6.]] [[63.]] [[7.]] [[73.]]\n",
      "5 [(array([[8.]], dtype=float32), array([[83.]], dtype=float32)), (array([[9.]], dtype=float32), array([[93.]], dtype=float32))] [[8.]] [[83.]] [[9.]] [[93.]]\n"
     ]
    }
   ],
   "source": [
    "for i in range(3): # 把刚才的5道题的题库，练习100遍！\n",
    "    print(i)\n",
    "    m=0\n",
    "    for data in train_reader():  #从题库里每次抽出一道题\n",
    "        m+=1\n",
    "        print(m,data,data[0][0],data[0][1],data[1][0],data[1][1])"
   ]
  },
  {
   "cell_type": "code",
   "execution_count": null,
   "metadata": {},
   "outputs": [],
   "source": []
  }
 ],
 "metadata": {
  "kernelspec": {
   "display_name": "Python 3",
   "language": "python",
   "name": "python3"
  },
  "language_info": {
   "codemirror_mode": {
    "name": "ipython",
    "version": 3
   },
   "file_extension": ".py",
   "mimetype": "text/x-python",
   "name": "python",
   "nbconvert_exporter": "python",
   "pygments_lexer": "ipython3",
   "version": "3.7.0"
  }
 },
 "nbformat": 4,
 "nbformat_minor": 2
}
