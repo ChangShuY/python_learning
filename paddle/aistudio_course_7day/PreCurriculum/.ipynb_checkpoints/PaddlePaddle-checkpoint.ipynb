{
 "cells": [
  {
   "cell_type": "markdown",
   "metadata": {},
   "source": [
    "# 新手入门第四课——PaddlePaddle快速入门"
   ]
  },
  {
   "cell_type": "markdown",
   "metadata": {},
   "source": [
    "CSY 2020-2-12  \n",
    "https://aistudio.baidu.com/aistudio/projectdetail/267588"
   ]
  },
  {
   "cell_type": "markdown",
   "metadata": {},
   "source": [
    "## 计算常量的加法：1+1"
   ]
  },
  {
   "cell_type": "markdown",
   "metadata": {},
   "source": [
    "首先导入PaddlePaddle库"
   ]
  },
  {
   "cell_type": "code",
   "execution_count": 1,
   "metadata": {},
   "outputs": [],
   "source": [
    "import paddle.fluid as fluid"
   ]
  },
  {
   "cell_type": "markdown",
   "metadata": {},
   "source": [
    "定义两个张量的常量x1和x2，并指定它们的形状是[2, 2]，并赋值为1铺满整个张量，类型为int64."
   ]
  },
  {
   "cell_type": "code",
   "execution_count": 2,
   "metadata": {},
   "outputs": [],
   "source": [
    "# 定义两个张量,仅定义，并没有赋值\n",
    "x1 = fluid.layers.fill_constant(shape=[2, 2], value=1, dtype='int64') # x1=[[1,1],[1,1]]\n",
    "x2 = fluid.layers.fill_constant(shape=[2, 2], value=1, dtype='int64') # x2=[[1,1],[1,1]]"
   ]
  },
  {
   "cell_type": "code",
   "execution_count": 8,
   "metadata": {},
   "outputs": [
    {
     "name": "stdout",
     "output_type": "stream",
     "text": [
      "name: \"fill_constant_0.tmp_0\"\n",
      "type {\n",
      "  type: LOD_TENSOR\n",
      "  lod_tensor {\n",
      "    tensor {\n",
      "      data_type: INT64\n",
      "      dims: 2\n",
      "      dims: 2\n",
      "    }\n",
      "  }\n",
      "}\n",
      "persistable: false\n",
      "\n"
     ]
    }
   ],
   "source": [
    "print(x1) # 此时x1并没有被赋值"
   ]
  },
  {
   "cell_type": "markdown",
   "metadata": {},
   "source": [
    "定义一个操作，该计算是将上面两个张量进行加法计算，并返回一个求和的算子。"
   ]
  },
  {
   "cell_type": "code",
   "execution_count": 10,
   "metadata": {},
   "outputs": [],
   "source": [
    "# 定义两个张量的求和操作\n",
    "y1 = fluid.layers.sum(x=[x1, x2]) # y1=x1+x2"
   ]
  },
  {
   "cell_type": "code",
   "execution_count": 11,
   "metadata": {},
   "outputs": [
    {
     "data": {
      "text/plain": [
       "name: \"sum_1.tmp_0\"\n",
       "type {\n",
       "  type: LOD_TENSOR\n",
       "  lod_tensor {\n",
       "    tensor {\n",
       "      data_type: INT64\n",
       "      dims: 2\n",
       "      dims: 2\n",
       "    }\n",
       "    lod_level: 0\n",
       "  }\n",
       "}\n",
       "persistable: false"
      ]
     },
     "execution_count": 11,
     "metadata": {},
     "output_type": "execute_result"
    }
   ],
   "source": [
    "y1 # 只是定义了，并没有运算"
   ]
  },
  {
   "cell_type": "markdown",
   "metadata": {},
   "source": [
    "然后创建一个解释器，可以在这里指定计算使用CPU或GPU。  \n",
    "当使用CPUPlace()时使用的是CPU  \n",
    "如果是CUDAPlace()使用的是GPU。"
   ]
  },
  {
   "cell_type": "code",
   "execution_count": 12,
   "metadata": {},
   "outputs": [
    {
     "name": "stderr",
     "output_type": "stream",
     "text": [
      "/home/csy/anaconda3/lib/python3.7/site-packages/paddle/fluid/executor.py:790: UserWarning: The current program is empty.\n",
      "  warnings.warn(error_info)\n"
     ]
    },
    {
     "data": {
      "text/plain": [
       "[]"
      ]
     },
     "execution_count": 12,
     "metadata": {},
     "output_type": "execute_result"
    }
   ],
   "source": [
    "# 创建一个使用CPU的解释器\n",
    "place = fluid.CPUPlace()\n",
    "exe = fluid.executor.Executor(place)\n",
    "# 进行参数初始化\n",
    "exe.run(fluid.default_startup_program()) # 本例中没有需要初始化的网络参数，故有下面的 warnings"
   ]
  },
  {
   "cell_type": "markdown",
   "metadata": {},
   "source": [
    "最后执行计算"
   ]
  },
  {
   "cell_type": "code",
   "execution_count": 13,
   "metadata": {},
   "outputs": [
    {
     "name": "stdout",
     "output_type": "stream",
     "text": [
      "x1 [[1 1]\n",
      " [1 1]]\n",
      "x2 [[1 1]\n",
      " [1 1]]\n",
      "y1 [[2 2]\n",
      " [2 2]]\n"
     ]
    }
   ],
   "source": [
    "# 进行运算，并把y的结果输出\n",
    "result = exe.run(program=fluid.default_main_program(),\n",
    "                 fetch_list=[x1,x2,y1])\n",
    "print('x1',result[0]) # x1\n",
    "print('x2',result[1]) # x2\n",
    "print('y1',result[2]) # y1"
   ]
  },
  {
   "cell_type": "markdown",
   "metadata": {},
   "source": [
    "## 计算变量的加法：1+1"
   ]
  },
  {
   "cell_type": "code",
   "execution_count": 14,
   "metadata": {},
   "outputs": [],
   "source": [
    "import paddle.fluid as fluid\n",
    "import numpy as np"
   ]
  },
  {
   "cell_type": "markdown",
   "metadata": {},
   "source": [
    "定义两个张量，并不指定该张量的形状和值，它们是之后动态赋值的。这里只是指定它们的类型和名字，这个名字是我们之后赋值的关键。"
   ]
  },
  {
   "cell_type": "code",
   "execution_count": 18,
   "metadata": {},
   "outputs": [],
   "source": [
    "# 定义两个张量\n",
    "x1 = fluid.layers.create_tensor(dtype='int64', name='a') # 为了省心，大部分程序都将x1用a代替。此处故意区分，可看出不同\n",
    "x2 = fluid.layers.create_tensor(dtype='int64', name='b') # 为了省心，大部分程序都将x2用b代替。此处故意区分，可看出不同"
   ]
  },
  {
   "cell_type": "code",
   "execution_count": 19,
   "metadata": {},
   "outputs": [],
   "source": [
    "# 将两个张量求和\n",
    "y = fluid.layers.sum(x=[x1, x2])"
   ]
  },
  {
   "cell_type": "code",
   "execution_count": 20,
   "metadata": {},
   "outputs": [
    {
     "name": "stderr",
     "output_type": "stream",
     "text": [
      "/home/csy/anaconda3/lib/python3.7/site-packages/paddle/fluid/executor.py:790: UserWarning: The current program is empty.\n",
      "  warnings.warn(error_info)\n"
     ]
    },
    {
     "data": {
      "text/plain": [
       "[]"
      ]
     },
     "execution_count": 20,
     "metadata": {},
     "output_type": "execute_result"
    }
   ],
   "source": [
    "# 创建一个使用CPU的解释器\n",
    "place = fluid.CPUPlace()\n",
    "exe = fluid.executor.Executor(place)\n",
    "# 进行参数初始化\n",
    "exe.run(fluid.default_startup_program())"
   ]
  },
  {
   "cell_type": "code",
   "execution_count": 21,
   "metadata": {},
   "outputs": [],
   "source": [
    "# 定义两个要计算的变量，这是真赋值了\n",
    "a1 = np.array([3, 2]).astype('int64')\n",
    "b1 = np.array([1, 1]).astype('int64')"
   ]
  },
  {
   "cell_type": "code",
   "execution_count": 25,
   "metadata": {},
   "outputs": [
    {
     "data": {
      "text/plain": [
       "(2,)"
      ]
     },
     "execution_count": 25,
     "metadata": {},
     "output_type": "execute_result"
    }
   ],
   "source": [
    "a1.shape"
   ]
  },
  {
   "cell_type": "code",
   "execution_count": 22,
   "metadata": {},
   "outputs": [
    {
     "data": {
      "text/plain": [
       "array([3, 2])"
      ]
     },
     "execution_count": 22,
     "metadata": {},
     "output_type": "execute_result"
    }
   ],
   "source": [
    "a1"
   ]
  },
  {
   "cell_type": "code",
   "execution_count": 23,
   "metadata": {},
   "outputs": [
    {
     "data": {
      "text/plain": [
       "array([1, 1])"
      ]
     },
     "execution_count": 23,
     "metadata": {},
     "output_type": "execute_result"
    }
   ],
   "source": [
    "b1"
   ]
  },
  {
   "cell_type": "code",
   "execution_count": 24,
   "metadata": {},
   "outputs": [
    {
     "name": "stdout",
     "output_type": "stream",
     "text": [
      "[3 2]  +  [1 1]  =  [4 3]\n"
     ]
    }
   ],
   "source": [
    "# 进行运算，并把y的结果输出\n",
    "out_a, out_b, result = exe.run(program=fluid.default_main_program(),\n",
    "                               feed={'a': a1, 'b': b1},\n",
    "                               fetch_list=[a, b, y])\n",
    "print(out_a, \" + \", out_b,\" = \", result)"
   ]
  },
  {
   "cell_type": "markdown",
   "metadata": {},
   "source": [
    "## 使用PaddlePaddle做线性回归"
   ]
  },
  {
   "cell_type": "code",
   "execution_count": 1,
   "metadata": {},
   "outputs": [],
   "source": [
    "import paddle.fluid as fluid\n",
    "# import paddle\n",
    "import numpy as np"
   ]
  },
  {
   "cell_type": "code",
   "execution_count": 2,
   "metadata": {},
   "outputs": [],
   "source": [
    "# 定义一个简单的线性网络\n",
    "#x = fluid.layers.data(name='x', shape=[13], dtype='float32') # 原文如此\n",
    "x = fluid.data(name='x', shape=[-1,13], dtype='float32') # 定义输入层的形状为13\n",
    "hidden = fluid.layers.fc(input=x, size=100, act='relu') # 大小为100，激活函数是ReLU的全连接层\n",
    "net = fluid.layers.fc(input=hidden, size=1, act=None) # 输出大小为1的全连接层"
   ]
  },
  {
   "cell_type": "code",
   "execution_count": 3,
   "metadata": {},
   "outputs": [],
   "source": [
    "# 定义损失函数\n",
    "#y = fluid.layers.data(name='y', shape=[-1,1], dtype='float32')\n",
    "y = fluid.data(name='y', shape=[-1,1], dtype='float32')\n",
    "cost = fluid.layers.square_error_cost(input=net, label=y)\n",
    "avg_cost = fluid.layers.mean(cost)"
   ]
  },
  {
   "cell_type": "code",
   "execution_count": 4,
   "metadata": {},
   "outputs": [],
   "source": [
    "# 复制一个主程序，方便之后使用\n",
    "test_program = fluid.default_main_program().clone(for_test=True)"
   ]
  },
  {
   "cell_type": "code",
   "execution_count": 5,
   "metadata": {},
   "outputs": [],
   "source": [
    "# 定义优化方法\n",
    "optimizer = fluid.optimizer.SGDOptimizer(learning_rate=0.01)\n",
    "opts = optimizer.minimize(avg_cost)"
   ]
  },
  {
   "cell_type": "code",
   "execution_count": 6,
   "metadata": {},
   "outputs": [
    {
     "data": {
      "text/plain": [
       "[]"
      ]
     },
     "execution_count": 6,
     "metadata": {},
     "output_type": "execute_result"
    }
   ],
   "source": [
    "# 创建一个使用CPU的解释器\n",
    "place = fluid.CPUPlace()\n",
    "exe = fluid.Executor(place)\n",
    "# 进行参数初始化\n",
    "exe.run(fluid.default_startup_program())"
   ]
  },
  {
   "cell_type": "code",
   "execution_count": 7,
   "metadata": {},
   "outputs": [],
   "source": [
    "# 定义训练和测试数据\n",
    "x_data = np.array([[1.0, 0.0, 0.0, 0.0, 0.0, 0.0, 0.0, 0.0, 0.0, 0.0, 0.0, 0.0, 0.0], \n",
    "                   [2.0, 0.0, 0.0, 0.0, 0.0, 0.0, 0.0, 0.0, 0.0, 0.0, 0.0, 0.0, 0.0], \n",
    "                   [3.0, 0.0, 0.0, 0.0, 0.0, 0.0, 0.0, 0.0, 0.0, 0.0, 0.0, 0.0, 0.0], \n",
    "                   [4.0, 0.0, 0.0, 0.0, 0.0, 0.0, 0.0, 0.0, 0.0, 0.0, 0.0, 0.0, 0.0], \n",
    "                   [5.0, 0.0, 0.0, 0.0, 0.0, 0.0, 0.0, 0.0, 0.0, 0.0, 0.0, 0.0, 0.0]]).astype('float32')\n",
    "y_data = np.array([[3.0], [5.0], [7.0], [9.0], [11.0]]).astype('float32')\n",
    "test_data = np.array([[6.0, 0.0, 0.0, 0.0, 0.0, 0.0, 0.0, 0.0, 0.0, 0.0, 0.0, 0.0, 0.0]]).astype('float32')"
   ]
  },
  {
   "cell_type": "code",
   "execution_count": 8,
   "metadata": {},
   "outputs": [
    {
     "data": {
      "text/plain": [
       "(5, 13)"
      ]
     },
     "execution_count": 8,
     "metadata": {},
     "output_type": "execute_result"
    }
   ],
   "source": [
    "x_data.shape"
   ]
  },
  {
   "cell_type": "code",
   "execution_count": 9,
   "metadata": {},
   "outputs": [
    {
     "data": {
      "text/plain": [
       "(5, 1)"
      ]
     },
     "execution_count": 9,
     "metadata": {},
     "output_type": "execute_result"
    }
   ],
   "source": [
    "y_data.shape"
   ]
  },
  {
   "cell_type": "code",
   "execution_count": 10,
   "metadata": {},
   "outputs": [
    {
     "data": {
      "text/plain": [
       "(1, 13)"
      ]
     },
     "execution_count": 10,
     "metadata": {},
     "output_type": "execute_result"
    }
   ],
   "source": [
    "test_data.shape"
   ]
  },
  {
   "cell_type": "code",
   "execution_count": 13,
   "metadata": {},
   "outputs": [
    {
     "name": "stdout",
     "output_type": "stream",
     "text": [
      "Pass:0, Cost:0.00220\n",
      "Pass:1, Cost:0.00216\n",
      "Pass:2, Cost:0.00211\n",
      "Pass:3, Cost:0.00207\n",
      "Pass:4, Cost:0.00203\n",
      "Pass:5, Cost:0.00199\n",
      "Pass:6, Cost:0.00195\n",
      "Pass:7, Cost:0.00191\n",
      "Pass:8, Cost:0.00187\n",
      "Pass:9, Cost:0.00183\n",
      "Pass:10, Cost:0.00179\n",
      "Pass:11, Cost:0.00176\n",
      "Pass:12, Cost:0.00172\n",
      "Pass:13, Cost:0.00169\n",
      "Pass:14, Cost:0.00165\n",
      "Pass:15, Cost:0.00162\n",
      "Pass:16, Cost:0.00159\n",
      "Pass:17, Cost:0.00156\n",
      "Pass:18, Cost:0.00152\n",
      "Pass:19, Cost:0.00149\n",
      "Pass:20, Cost:0.00146\n",
      "Pass:21, Cost:0.00143\n",
      "Pass:22, Cost:0.00141\n",
      "Pass:23, Cost:0.00138\n",
      "Pass:24, Cost:0.00135\n",
      "Pass:25, Cost:0.00132\n",
      "Pass:26, Cost:0.00130\n",
      "Pass:27, Cost:0.00127\n",
      "Pass:28, Cost:0.00124\n",
      "Pass:29, Cost:0.00122\n",
      "Pass:30, Cost:0.00119\n",
      "Pass:31, Cost:0.00117\n",
      "Pass:32, Cost:0.00115\n",
      "Pass:33, Cost:0.00112\n",
      "Pass:34, Cost:0.00110\n",
      "Pass:35, Cost:0.00108\n",
      "Pass:36, Cost:0.00106\n",
      "Pass:37, Cost:0.00104\n",
      "Pass:38, Cost:0.00101\n",
      "Pass:39, Cost:0.00099\n",
      "Pass:40, Cost:0.00097\n",
      "Pass:41, Cost:0.00095\n",
      "Pass:42, Cost:0.00094\n",
      "Pass:43, Cost:0.00092\n",
      "Pass:44, Cost:0.00090\n",
      "Pass:45, Cost:0.00088\n",
      "Pass:46, Cost:0.00086\n",
      "Pass:47, Cost:0.00084\n",
      "Pass:48, Cost:0.00083\n",
      "Pass:49, Cost:0.00081\n"
     ]
    }
   ],
   "source": [
    "# 开始训练100个pass\n",
    "for pass_id in range(50):\n",
    "    train_cost = exe.run(program=fluid.default_main_program(),\n",
    "                         feed={'x': x_data, 'y': y_data},\n",
    "                         fetch_list=[avg_cost])\n",
    "    print(\"Pass:%d, Cost:%0.5f\" % (pass_id, train_cost[0]))"
   ]
  },
  {
   "cell_type": "code",
   "execution_count": 14,
   "metadata": {},
   "outputs": [
    {
     "name": "stdout",
     "output_type": "stream",
     "text": [
      "当x为6.0时，y为：13.04391\n"
     ]
    }
   ],
   "source": [
    "# 开始预测，‘y’值无所谓，但是必须要有。\n",
    "result = exe.run(program=test_program,\n",
    "                 feed={'x': test_data, 'y': np.array([[0.0]]).astype('float32')},\n",
    "                 fetch_list=[net])\n",
    "print(\"当x为6.0时，y为：%0.5f\" % result[0][0][0])"
   ]
  },
  {
   "cell_type": "code",
   "execution_count": null,
   "metadata": {},
   "outputs": [],
   "source": []
  }
 ],
 "metadata": {
  "kernelspec": {
   "display_name": "Python 3",
   "language": "python",
   "name": "python3"
  },
  "language_info": {
   "codemirror_mode": {
    "name": "ipython",
    "version": 3
   },
   "file_extension": ".py",
   "mimetype": "text/x-python",
   "name": "python",
   "nbconvert_exporter": "python",
   "pygments_lexer": "ipython3",
   "version": "3.7.0"
  }
 },
 "nbformat": 4,
 "nbformat_minor": 2
}
