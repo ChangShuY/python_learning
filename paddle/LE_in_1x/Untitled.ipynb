{
 "cells": [
  {
   "cell_type": "code",
   "execution_count": 4,
   "metadata": {},
   "outputs": [
    {
     "name": "stdout",
     "output_type": "stream",
     "text": [
      "当变量为[[5.766786  ]\n",
      " [3.308236  ]\n",
      " [8.083586  ]\n",
      " [6.2478294 ]\n",
      " [6.583296  ]\n",
      " [7.72107   ]\n",
      " [0.84866357]\n",
      " [8.17553   ]\n",
      " [5.066856  ]\n",
      " [3.167586  ]]时，预测结果为[array([[11.401822 ],\n",
      "       [ 6.599314 ],\n",
      "       [15.927436 ],\n",
      "       [12.341487 ],\n",
      "       [12.996784 ],\n",
      "       [15.2193   ],\n",
      "       [ 1.7948096],\n",
      "       [16.10704  ],\n",
      "       [10.034585 ],\n",
      "       [ 6.3245707]], dtype=float32)]\n"
     ]
    }
   ],
   "source": [
    "%run Model_aX_Test.py"
   ]
  },
  {
   "cell_type": "code",
   "execution_count": 2,
   "metadata": {},
   "outputs": [
    {
     "name": "stdout",
     "output_type": "stream",
     "text": [
      "[array([[2.0907004],\n",
      "       [4.0439506],\n",
      "       [5.997201 ],\n",
      "       [7.9504514]], dtype=float32), array([0.00315528], dtype=float32)]\n"
     ]
    }
   ],
   "source": [
    "%run Model_aX_Train.py"
   ]
  },
  {
   "cell_type": "code",
   "execution_count": null,
   "metadata": {},
   "outputs": [],
   "source": []
  }
 ],
 "metadata": {
  "kernelspec": {
   "display_name": "Python 3",
   "language": "python",
   "name": "python3"
  },
  "language_info": {
   "codemirror_mode": {
    "name": "ipython",
    "version": 3
   },
   "file_extension": ".py",
   "mimetype": "text/x-python",
   "name": "python",
   "nbconvert_exporter": "python",
   "pygments_lexer": "ipython3",
   "version": "3.7.0"
  }
 },
 "nbformat": 4,
 "nbformat_minor": 2
}
