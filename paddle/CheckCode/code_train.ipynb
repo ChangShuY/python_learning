{
 "cells": [
  {
   "cell_type": "code",
   "execution_count": 1,
   "metadata": {},
   "outputs": [],
   "source": [
    "import paddle.fluid as fluid # paddlepaddle 推出的最新的API\n",
    "import paddle # 有一些功能是fluid不具备的，还是需要paddle模块\n",
    "import numpy as np\n",
    "from PIL import Image # Python Image Libary\n",
    "import matplotlib.pyplot as plt\n",
    "from pylab import mpl"
   ]
  },
  {
   "cell_type": "code",
   "execution_count": 4,
   "metadata": {},
   "outputs": [
    {
     "name": "stdout",
     "output_type": "stream",
     "text": [
      "训练后文件夹路径../test01/test.inference.model\n"
     ]
    }
   ],
   "source": [
    "mpl.rcParams['font.sans-serif'] = ['SimHei']  # 设置一种用来显示中文的字体\n",
    "\n",
    "path = \"../\"\n",
    "params_dirname = path + \"test01/test.inference.model\"\n",
    "print(\"训练后文件夹路径\" + params_dirname)"
   ]
  },
  {
   "cell_type": "code",
   "execution_count": 3,
   "metadata": {},
   "outputs": [],
   "source": [
    "place = fluid.CPUPlace()\n",
    "exe = fluid.Executor(place)"
   ]
  },
  {
   "cell_type": "code",
   "execution_count": null,
   "metadata": {},
   "outputs": [],
   "source": []
  }
 ],
 "metadata": {
  "kernelspec": {
   "display_name": "Python 3",
   "language": "python",
   "name": "python3"
  },
  "language_info": {
   "codemirror_mode": {
    "name": "ipython",
    "version": 3
   },
   "file_extension": ".py",
   "mimetype": "text/x-python",
   "name": "python",
   "nbconvert_exporter": "python",
   "pygments_lexer": "ipython3",
   "version": "3.7.0"
  }
 },
 "nbformat": 4,
 "nbformat_minor": 2
}
