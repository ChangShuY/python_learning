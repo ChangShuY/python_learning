{
 "cells": [
  {
   "cell_type": "code",
   "execution_count": 1,
   "metadata": {},
   "outputs": [
    {
     "name": "stdout",
     "output_type": "stream",
     "text": [
      "训练后文件夹路径../test01/test.inference.model\n",
      "(-1, 1, 30, 15)\n",
      "当前训练进度百分比为：0.0%\n",
      "当前训练进度百分比为：2.0%\n",
      "当前训练进度百分比为：4.0%\n",
      "当前训练进度百分比为：6.0%\n",
      "当前训练进度百分比为：8.0%\n",
      "当前训练进度百分比为：10%\n",
      "当前训练进度百分比为：12%\n",
      "当前训练进度百分比为：14%\n",
      "当前训练进度百分比为：16%\n",
      "当前训练进度百分比为：18%\n",
      "当前训练进度百分比为：20%\n",
      "当前训练进度百分比为：22%\n",
      "当前训练进度百分比为：24%\n",
      "当前训练进度百分比为：26%\n",
      "当前训练进度百分比为：28%\n",
      "当前训练进度百分比为：30%\n",
      "当前训练进度百分比为：32%\n",
      "当前训练进度百分比为：34%\n",
      "当前训练进度百分比为：36%\n",
      "当前训练进度百分比为：38%\n",
      "当前训练进度百分比为：40%\n",
      "当前训练进度百分比为：42%\n",
      "当前训练进度百分比为：44%\n",
      "当前训练进度百分比为：46%\n",
      "当前训练进度百分比为：48%\n",
      "当前训练进度百分比为：50%\n",
      "当前训练进度百分比为：52%\n",
      "当前训练进度百分比为：54%\n",
      "当前训练进度百分比为：56%\n",
      "当前训练进度百分比为：57%\n",
      "当前训练进度百分比为：60%\n",
      "当前训练进度百分比为：62%\n",
      "当前训练进度百分比为：64%\n",
      "当前训练进度百分比为：66%\n",
      "当前训练进度百分比为：68%\n",
      "当前训练进度百分比为：70%\n",
      "当前训练进度百分比为：72%\n",
      "当前训练进度百分比为：74%\n",
      "当前训练进度百分比为：76%\n",
      "当前训练进度百分比为：78%\n",
      "当前训练进度百分比为：80%\n",
      "当前训练进度百分比为：82%\n",
      "当前训练进度百分比为：84%\n",
      "当前训练进度百分比为：86%\n",
      "当前训练进度百分比为：88%\n",
      "当前训练进度百分比为：90%\n",
      "当前训练进度百分比为：92%\n",
      "当前训练进度百分比为：94%\n",
      "当前训练进度百分比为：96%\n",
      "当前训练进度百分比为：98%\n"
     ]
    },
    {
     "data": {
      "text/plain": [
       "<Figure size 640x480 with 1 Axes>"
      ]
     },
     "metadata": {},
     "output_type": "display_data"
    }
   ],
   "source": [
    "%run code_train.py"
   ]
  },
  {
   "cell_type": "code",
   "execution_count": 4,
   "metadata": {},
   "outputs": [],
   "source": [
    "import matplotlib.pyplot as plt"
   ]
  },
  {
   "cell_type": "code",
   "execution_count": 6,
   "metadata": {},
   "outputs": [
    {
     "name": "stderr",
     "output_type": "stream",
     "text": [
      "/home/csy/anaconda3/lib/python3.7/site-packages/matplotlib/font_manager.py:1331: UserWarning: findfont: Font family ['sans-serif'] not found. Falling back to DejaVu Sans\n",
      "  (prop.get_family(), self.defaultFamily[fontext]))\n"
     ]
    },
    {
     "data": {
      "image/png": "[encoded data removed]",
      "text/plain": [
       "<Figure size 432x288 with 1 Axes>"
      ]
     },
     "metadata": {
      "needs_background": "light"
     },
     "output_type": "display_data"
    }
   ],
   "source": [
    "x=[100,101,102,103,104,105,106,107,108,109]\n",
    "plt.figure(1)\n",
    "plt.title('accuracy')\n",
    "plt.xlabel('train times')\n",
    "plt.plot(range(10), x)\n",
    "plt.show()"
   ]
  },
  {
   "cell_type": "code",
   "execution_count": null,
   "metadata": {},
   "outputs": [],
   "source": []
  }
 ],
 "metadata": {
  "kernelspec": {
   "display_name": "Python 3",
   "language": "python",
   "name": "python3"
  },
  "language_info": {
   "codemirror_mode": {
    "name": "ipython",
    "version": 3
   },
   "file_extension": ".py",
   "mimetype": "text/x-python",
   "name": "python",
   "nbconvert_exporter": "python",
   "pygments_lexer": "ipython3",
   "version": "3.7.0"
  }
 },
 "nbformat": 4,
 "nbformat_minor": 2
}
