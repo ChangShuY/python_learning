{
 "cells": [
  {
   "cell_type": "markdown",
   "metadata": {},
   "source": [
    "# 非常简单的一个数据预测网络\n",
    "\n",
    "https://www.paddlepaddle.org.cn/documentation/docs/zh/1.5/beginners_guide/programming_guide/programming_guide.html\n",
    "\n",
    "CSY 2019-11-8"
   ]
  },
  {
   "cell_type": "markdown",
   "metadata": {},
   "source": [
    "要求：给定一组数据 <X,Y>，求解出函数 f，使得 y=f(x)，其中X,Y均为一维张量。最终网络可以依据输入x，准确预测出ypredict。"
   ]
  },
  {
   "cell_type": "markdown",
   "metadata": {},
   "source": [
    "加载库"
   ]
  },
  {
   "cell_type": "code",
   "execution_count": 18,
   "metadata": {},
   "outputs": [],
   "source": [
    "import paddle.fluid as fluid\n",
    "import numpy"
   ]
  },
  {
   "cell_type": "markdown",
   "metadata": {},
   "source": [
    "输入数据"
   ]
  },
  {
   "cell_type": "code",
   "execution_count": 19,
   "metadata": {},
   "outputs": [],
   "source": [
    "#定义训练数据\n",
    "train_data=numpy.array([[1.0],[2.0],[3.0],[4.0]]).astype('float32')\n",
    "#定义标准答案\n",
    "y_true = numpy.array([[2.0],[4.0],[6.0],[8.0]]).astype('float32')"
   ]
  },
  {
   "cell_type": "markdown",
   "metadata": {},
   "source": [
    "搭建网络"
   ]
  },
  {
   "cell_type": "code",
   "execution_count": 20,
   "metadata": {},
   "outputs": [],
   "source": [
    "#定义输入层\n",
    "x = fluid.layers.data(name=\"x\",shape=[1],dtype='float32')\n",
    "y = fluid.layers.data(name=\"y\",shape=[1],dtype='float32')\n",
    "#搭建全连接网络\n",
    "y_predict = fluid.layers.fc(input=x,size=1,act=None)\n"
   ]
  },
  {
   "cell_type": "markdown",
   "metadata": {},
   "source": [
    "定义损失函数"
   ]
  },
  {
   "cell_type": "code",
   "execution_count": 21,
   "metadata": {},
   "outputs": [],
   "source": [
    "cost = fluid.layers.square_error_cost(input=y_predict,label=y) #方差\n",
    "avg_cost = fluid.layers.mean(cost)"
   ]
  },
  {
   "cell_type": "code",
   "execution_count": 24,
   "metadata": {},
   "outputs": [
    {
     "data": {
      "text/plain": [
       "([inputs {\n",
       "    parameter: \"Grad\"\n",
       "    arguments: \"fc_2.b_0@GRAD\"\n",
       "  }\n",
       "  inputs {\n",
       "    parameter: \"LearningRate\"\n",
       "    arguments: \"learning_rate_0\"\n",
       "  }\n",
       "  inputs {\n",
       "    parameter: \"Param\"\n",
       "    arguments: \"fc_2.b_0\"\n",
       "  }\n",
       "  outputs {\n",
       "    parameter: \"ParamOut\"\n",
       "    arguments: \"fc_2.b_0\"\n",
       "  }\n",
       "  type: \"sgd\"\n",
       "  attrs {\n",
       "    name: \"op_callstack\"\n",
       "    type: STRINGS\n",
       "    strings: \"  File \\\"/home/csy/anaconda3/lib/python3.7/site-packages/paddle/fluid/framework.py\\\", line 2426, in append_op\\n    attrs=kwargs.get(\\\"attrs\\\", None))\\n\"\n",
       "    strings: \"  File \\\"/home/csy/anaconda3/lib/python3.7/site-packages/paddle/fluid/optimizer.py\\\", line 756, in _append_optimize_op\\n    stop_gradient=True)\\n\"\n",
       "    strings: \"  File \\\"/home/csy/anaconda3/lib/python3.7/site-packages/paddle/fluid/optimizer.py\\\", line 433, in _create_optimization_pass\\n    param_and_grad)\\n\"\n",
       "    strings: \"  File \\\"/home/csy/anaconda3/lib/python3.7/site-packages/paddle/fluid/optimizer.py\\\", line 590, in apply_gradients\\n    optimize_ops = self._create_optimization_pass(params_grads)\\n\"\n",
       "    strings: \"  File \\\"/home/csy/anaconda3/lib/python3.7/site-packages/paddle/fluid/optimizer.py\\\", line 620, in apply_optimize\\n    optimize_ops = self.apply_gradients(params_grads)\\n\"\n",
       "    strings: \"  File \\\"/home/csy/anaconda3/lib/python3.7/site-packages/paddle/fluid/optimizer.py\\\", line 685, in minimize\\n    loss, startup_program=startup_program, params_grads=params_grads)\\n\"\n",
       "    strings: \"  File \\\"/home/csy/anaconda3/lib/python3.7/site-packages/paddle/fluid/dygraph/base.py\\\", line 78, in __impl__\\n    return func(*args, **kwargs)\\n\"\n",
       "    strings: \"  File \\\"/home/csy/anaconda3/lib/python3.7/site-packages/paddle/fluid/wrapped_decorator.py\\\", line 25, in __impl__\\n    return wrapped_func(*args, **kwargs)\\n\"\n",
       "    strings: \"  File \\\"<decorator-gen-160>\\\", line 2, in minimize\\n\"\n",
       "    strings: \"  File \\\"<ipython-input-24-8383a1d61cc0>\\\", line 3, in <module>\\n    sgd_optimizer.minimize(avg_cost)\\n\"\n",
       "    strings: \"  File \\\"/home/csy/anaconda3/lib/python3.7/site-packages/IPython/core/interactiveshell.py\\\", line 2961, in run_code\\n    exec(code_obj, self.user_global_ns, self.user_ns)\\n\"\n",
       "    strings: \"  File \\\"/home/csy/anaconda3/lib/python3.7/site-packages/IPython/core/interactiveshell.py\\\", line 2907, in run_ast_nodes\\n    if self.run_code(code, result):\\n\"\n",
       "    strings: \"  File \\\"/home/csy/anaconda3/lib/python3.7/site-packages/IPython/core/interactiveshell.py\\\", line 2785, in _run_cell\\n    interactivity=interactivity, compiler=compiler, result=result)\\n\"\n",
       "    strings: \"  File \\\"/home/csy/anaconda3/lib/python3.7/site-packages/IPython/core/interactiveshell.py\\\", line 2662, in run_cell\\n    raw_cell, store_history, silent, shell_futures)\\n\"\n",
       "    strings: \"  File \\\"/home/csy/anaconda3/lib/python3.7/site-packages/ipykernel/zmqshell.py\\\", line 537, in run_cell\\n    return super(ZMQInteractiveShell, self).run_cell(*args, **kwargs)\\n\"\n",
       "    strings: \"  File \\\"/home/csy/anaconda3/lib/python3.7/site-packages/ipykernel/ipkernel.py\\\", line 208, in do_execute\\n    res = shell.run_cell(code, store_history=store_history, silent=silent)\\n\"\n",
       "    strings: \"  File \\\"/home/csy/anaconda3/lib/python3.7/site-packages/ipykernel/kernelbase.py\\\", line 399, in execute_request\\n    user_expressions, allow_stdin)\\n\"\n",
       "    strings: \"  File \\\"/home/csy/anaconda3/lib/python3.7/site-packages/ipykernel/kernelbase.py\\\", line 233, in dispatch_shell\\n    handler(stream, idents, msg)\\n\"\n",
       "    strings: \"  File \\\"/home/csy/anaconda3/lib/python3.7/site-packages/ipykernel/kernelbase.py\\\", line 283, in dispatcher\\n    return self.dispatch_shell(stream, msg)\\n\"\n",
       "    strings: \"  File \\\"/home/csy/anaconda3/lib/python3.7/site-packages/tornado/stack_context.py\\\", line 300, in null_wrapper\\n    return fn(*args, **kwargs)\\n\"\n",
       "    strings: \"  File \\\"/home/csy/anaconda3/lib/python3.7/site-packages/zmq/eventloop/zmqstream.py\\\", line 432, in _run_callback\\n    callback(*args, **kwargs)\\n\"\n",
       "    strings: \"  File \\\"/home/csy/anaconda3/lib/python3.7/site-packages/zmq/eventloop/zmqstream.py\\\", line 480, in _handle_recv\\n    self._run_callback(callback, msg)\\n\"\n",
       "    strings: \"  File \\\"/home/csy/anaconda3/lib/python3.7/site-packages/zmq/eventloop/zmqstream.py\\\", line 450, in _handle_events\\n    self._handle_recv()\\n\"\n",
       "    strings: \"  File \\\"/home/csy/anaconda3/lib/python3.7/site-packages/tornado/stack_context.py\\\", line 300, in null_wrapper\\n    return fn(*args, **kwargs)\\n\"\n",
       "    strings: \"  File \\\"/home/csy/anaconda3/lib/python3.7/site-packages/tornado/platform/asyncio.py\\\", line 122, in _handle_events\\n    handler_func(fileobj, events)\\n\"\n",
       "    strings: \"  File \\\"/home/csy/anaconda3/lib/python3.7/asyncio/events.py\\\", line 88, in _run\\n    self._context.run(self._callback, *self._args)\\n\"\n",
       "    strings: \"  File \\\"/home/csy/anaconda3/lib/python3.7/asyncio/base_events.py\\\", line 1758, in _run_once\\n    handle._run()\\n\"\n",
       "    strings: \"  File \\\"/home/csy/anaconda3/lib/python3.7/asyncio/base_events.py\\\", line 523, in run_forever\\n    self._run_once()\\n\"\n",
       "    strings: \"  File \\\"/home/csy/anaconda3/lib/python3.7/site-packages/tornado/platform/asyncio.py\\\", line 132, in start\\n    self.asyncio_loop.run_forever()\\n\"\n",
       "    strings: \"  File \\\"/home/csy/anaconda3/lib/python3.7/site-packages/ipykernel/kernelapp.py\\\", line 497, in start\\n    self.io_loop.start()\\n\"\n",
       "    strings: \"  File \\\"/home/csy/anaconda3/lib/python3.7/site-packages/traitlets/config/application.py\\\", line 658, in launch_instance\\n    app.start()\\n\"\n",
       "    strings: \"  File \\\"/home/csy/anaconda3/lib/python3.7/site-packages/ipykernel_launcher.py\\\", line 16, in <module>\\n    app.launch_new_instance()\\n\"\n",
       "    strings: \"  File \\\"/home/csy/anaconda3/lib/python3.7/runpy.py\\\", line 85, in _run_code\\n    exec(code, run_globals)\\n\"\n",
       "    strings: \"  File \\\"/home/csy/anaconda3/lib/python3.7/runpy.py\\\", line 193, in _run_module_as_main\\n    \\\"__main__\\\", mod_spec)\\n\"\n",
       "  }\n",
       "  attrs {\n",
       "    name: \"op_namescope\"\n",
       "    type: STRING\n",
       "    s: \"/optimizer/\"\n",
       "  }\n",
       "  attrs {\n",
       "    name: \"op_role_var\"\n",
       "    type: STRINGS\n",
       "    strings: \"fc_2.b_0\"\n",
       "    strings: \"fc_2.b_0@GRAD\"\n",
       "  }\n",
       "  attrs {\n",
       "    name: \"op_role\"\n",
       "    type: INT\n",
       "    i: 2\n",
       "  }, inputs {\n",
       "    parameter: \"Grad\"\n",
       "    arguments: \"fc_2.w_0@GRAD\"\n",
       "  }\n",
       "  inputs {\n",
       "    parameter: \"LearningRate\"\n",
       "    arguments: \"learning_rate_0\"\n",
       "  }\n",
       "  inputs {\n",
       "    parameter: \"Param\"\n",
       "    arguments: \"fc_2.w_0\"\n",
       "  }\n",
       "  outputs {\n",
       "    parameter: \"ParamOut\"\n",
       "    arguments: \"fc_2.w_0\"\n",
       "  }\n",
       "  type: \"sgd\"\n",
       "  attrs {\n",
       "    name: \"op_callstack\"\n",
       "    type: STRINGS\n",
       "    strings: \"  File \\\"/home/csy/anaconda3/lib/python3.7/site-packages/paddle/fluid/framework.py\\\", line 2426, in append_op\\n    attrs=kwargs.get(\\\"attrs\\\", None))\\n\"\n",
       "    strings: \"  File \\\"/home/csy/anaconda3/lib/python3.7/site-packages/paddle/fluid/optimizer.py\\\", line 756, in _append_optimize_op\\n    stop_gradient=True)\\n\"\n",
       "    strings: \"  File \\\"/home/csy/anaconda3/lib/python3.7/site-packages/paddle/fluid/optimizer.py\\\", line 433, in _create_optimization_pass\\n    param_and_grad)\\n\"\n",
       "    strings: \"  File \\\"/home/csy/anaconda3/lib/python3.7/site-packages/paddle/fluid/optimizer.py\\\", line 590, in apply_gradients\\n    optimize_ops = self._create_optimization_pass(params_grads)\\n\"\n",
       "    strings: \"  File \\\"/home/csy/anaconda3/lib/python3.7/site-packages/paddle/fluid/optimizer.py\\\", line 620, in apply_optimize\\n    optimize_ops = self.apply_gradients(params_grads)\\n\"\n",
       "    strings: \"  File \\\"/home/csy/anaconda3/lib/python3.7/site-packages/paddle/fluid/optimizer.py\\\", line 685, in minimize\\n    loss, startup_program=startup_program, params_grads=params_grads)\\n\"\n",
       "    strings: \"  File \\\"/home/csy/anaconda3/lib/python3.7/site-packages/paddle/fluid/dygraph/base.py\\\", line 78, in __impl__\\n    return func(*args, **kwargs)\\n\"\n",
       "    strings: \"  File \\\"/home/csy/anaconda3/lib/python3.7/site-packages/paddle/fluid/wrapped_decorator.py\\\", line 25, in __impl__\\n    return wrapped_func(*args, **kwargs)\\n\"\n",
       "    strings: \"  File \\\"<decorator-gen-160>\\\", line 2, in minimize\\n\"\n",
       "    strings: \"  File \\\"<ipython-input-24-8383a1d61cc0>\\\", line 3, in <module>\\n    sgd_optimizer.minimize(avg_cost)\\n\"\n",
       "    strings: \"  File \\\"/home/csy/anaconda3/lib/python3.7/site-packages/IPython/core/interactiveshell.py\\\", line 2961, in run_code\\n    exec(code_obj, self.user_global_ns, self.user_ns)\\n\"\n",
       "    strings: \"  File \\\"/home/csy/anaconda3/lib/python3.7/site-packages/IPython/core/interactiveshell.py\\\", line 2907, in run_ast_nodes\\n    if self.run_code(code, result):\\n\"\n",
       "    strings: \"  File \\\"/home/csy/anaconda3/lib/python3.7/site-packages/IPython/core/interactiveshell.py\\\", line 2785, in _run_cell\\n    interactivity=interactivity, compiler=compiler, result=result)\\n\"\n",
       "    strings: \"  File \\\"/home/csy/anaconda3/lib/python3.7/site-packages/IPython/core/interactiveshell.py\\\", line 2662, in run_cell\\n    raw_cell, store_history, silent, shell_futures)\\n\"\n",
       "    strings: \"  File \\\"/home/csy/anaconda3/lib/python3.7/site-packages/ipykernel/zmqshell.py\\\", line 537, in run_cell\\n    return super(ZMQInteractiveShell, self).run_cell(*args, **kwargs)\\n\"\n",
       "    strings: \"  File \\\"/home/csy/anaconda3/lib/python3.7/site-packages/ipykernel/ipkernel.py\\\", line 208, in do_execute\\n    res = shell.run_cell(code, store_history=store_history, silent=silent)\\n\"\n",
       "    strings: \"  File \\\"/home/csy/anaconda3/lib/python3.7/site-packages/ipykernel/kernelbase.py\\\", line 399, in execute_request\\n    user_expressions, allow_stdin)\\n\"\n",
       "    strings: \"  File \\\"/home/csy/anaconda3/lib/python3.7/site-packages/ipykernel/kernelbase.py\\\", line 233, in dispatch_shell\\n    handler(stream, idents, msg)\\n\"\n",
       "    strings: \"  File \\\"/home/csy/anaconda3/lib/python3.7/site-packages/ipykernel/kernelbase.py\\\", line 283, in dispatcher\\n    return self.dispatch_shell(stream, msg)\\n\"\n",
       "    strings: \"  File \\\"/home/csy/anaconda3/lib/python3.7/site-packages/tornado/stack_context.py\\\", line 300, in null_wrapper\\n    return fn(*args, **kwargs)\\n\"\n",
       "    strings: \"  File \\\"/home/csy/anaconda3/lib/python3.7/site-packages/zmq/eventloop/zmqstream.py\\\", line 432, in _run_callback\\n    callback(*args, **kwargs)\\n\"\n",
       "    strings: \"  File \\\"/home/csy/anaconda3/lib/python3.7/site-packages/zmq/eventloop/zmqstream.py\\\", line 480, in _handle_recv\\n    self._run_callback(callback, msg)\\n\"\n",
       "    strings: \"  File \\\"/home/csy/anaconda3/lib/python3.7/site-packages/zmq/eventloop/zmqstream.py\\\", line 450, in _handle_events\\n    self._handle_recv()\\n\"\n",
       "    strings: \"  File \\\"/home/csy/anaconda3/lib/python3.7/site-packages/tornado/stack_context.py\\\", line 300, in null_wrapper\\n    return fn(*args, **kwargs)\\n\"\n",
       "    strings: \"  File \\\"/home/csy/anaconda3/lib/python3.7/site-packages/tornado/platform/asyncio.py\\\", line 122, in _handle_events\\n    handler_func(fileobj, events)\\n\"\n",
       "    strings: \"  File \\\"/home/csy/anaconda3/lib/python3.7/asyncio/events.py\\\", line 88, in _run\\n    self._context.run(self._callback, *self._args)\\n\"\n",
       "    strings: \"  File \\\"/home/csy/anaconda3/lib/python3.7/asyncio/base_events.py\\\", line 1758, in _run_once\\n    handle._run()\\n\"\n",
       "    strings: \"  File \\\"/home/csy/anaconda3/lib/python3.7/asyncio/base_events.py\\\", line 523, in run_forever\\n    self._run_once()\\n\"\n",
       "    strings: \"  File \\\"/home/csy/anaconda3/lib/python3.7/site-packages/tornado/platform/asyncio.py\\\", line 132, in start\\n    self.asyncio_loop.run_forever()\\n\"\n",
       "    strings: \"  File \\\"/home/csy/anaconda3/lib/python3.7/site-packages/ipykernel/kernelapp.py\\\", line 497, in start\\n    self.io_loop.start()\\n\"\n",
       "    strings: \"  File \\\"/home/csy/anaconda3/lib/python3.7/site-packages/traitlets/config/application.py\\\", line 658, in launch_instance\\n    app.start()\\n\"\n",
       "    strings: \"  File \\\"/home/csy/anaconda3/lib/python3.7/site-packages/ipykernel_launcher.py\\\", line 16, in <module>\\n    app.launch_new_instance()\\n\"\n",
       "    strings: \"  File \\\"/home/csy/anaconda3/lib/python3.7/runpy.py\\\", line 85, in _run_code\\n    exec(code, run_globals)\\n\"\n",
       "    strings: \"  File \\\"/home/csy/anaconda3/lib/python3.7/runpy.py\\\", line 193, in _run_module_as_main\\n    \\\"__main__\\\", mod_spec)\\n\"\n",
       "  }\n",
       "  attrs {\n",
       "    name: \"op_namescope\"\n",
       "    type: STRING\n",
       "    s: \"/optimizer_1/\"\n",
       "  }\n",
       "  attrs {\n",
       "    name: \"op_role_var\"\n",
       "    type: STRINGS\n",
       "    strings: \"fc_2.w_0\"\n",
       "    strings: \"fc_2.w_0@GRAD\"\n",
       "  }\n",
       "  attrs {\n",
       "    name: \"op_role\"\n",
       "    type: INT\n",
       "    i: 2\n",
       "  }], [(name: \"fc_2.w_0\"\n",
       "   type {\n",
       "     type: LOD_TENSOR\n",
       "     lod_tensor {\n",
       "       tensor {\n",
       "         data_type: FP32\n",
       "         dims: 1\n",
       "         dims: 1\n",
       "       }\n",
       "     }\n",
       "   }\n",
       "   persistable: true, name: \"fc_2.w_0@GRAD\"\n",
       "   type {\n",
       "     type: LOD_TENSOR\n",
       "     lod_tensor {\n",
       "       tensor {\n",
       "         data_type: FP32\n",
       "         dims: 1\n",
       "         dims: 1\n",
       "       }\n",
       "     }\n",
       "   }), (name: \"fc_2.b_0\"\n",
       "   type {\n",
       "     type: LOD_TENSOR\n",
       "     lod_tensor {\n",
       "       tensor {\n",
       "         data_type: FP32\n",
       "         dims: 1\n",
       "       }\n",
       "     }\n",
       "   }\n",
       "   persistable: true, name: \"fc_2.b_0@GRAD\"\n",
       "   type {\n",
       "     type: LOD_TENSOR\n",
       "     lod_tensor {\n",
       "       tensor {\n",
       "         data_type: FP32\n",
       "         dims: 1\n",
       "       }\n",
       "       lod_level: 0\n",
       "     }\n",
       "   })])"
      ]
     },
     "execution_count": 24,
     "metadata": {},
     "output_type": "execute_result"
    }
   ],
   "source": [
    "#定义优化方法--梯度下降法\n",
    "sgd_optimizer = fluid.optimizer.SGD(learning_rate=0.01)\n",
    "sgd_optimizer.minimize(avg_cost)\n"
   ]
  },
  {
   "cell_type": "markdown",
   "metadata": {},
   "source": [
    "定义执行器，初始化参数"
   ]
  },
  {
   "cell_type": "code",
   "execution_count": 25,
   "metadata": {},
   "outputs": [
    {
     "data": {
      "text/plain": [
       "[]"
      ]
     },
     "execution_count": 25,
     "metadata": {},
     "output_type": "execute_result"
    }
   ],
   "source": [
    "cpu = fluid.core.CPUPlace()\n",
    "exe = fluid.Executor(cpu)\n",
    "exe.run(fluid.default_startup_program())"
   ]
  },
  {
   "cell_type": "code",
   "execution_count": 32,
   "metadata": {},
   "outputs": [
    {
     "name": "stdout",
     "output_type": "stream",
     "text": [
      "[array([[2.039711 ],\n",
      "       [4.019243 ],\n",
      "       [5.9987745],\n",
      "       [7.9783063]], dtype=float32), array([0.00060484], dtype=float32)]\n"
     ]
    }
   ],
   "source": [
    "#开始训练--100次 实测训练600次后均方差0.0006\n",
    "for i in range(200):\n",
    "    outs = exe.run(\n",
    "        feed={'x':train_data,'y':y_true},\n",
    "        fetch_list=[y_predict,avg_cost])\n",
    "#观察结果\n",
    "print (outs)"
   ]
  },
  {
   "cell_type": "code",
   "execution_count": null,
   "metadata": {},
   "outputs": [],
   "source": []
  },
  {
   "cell_type": "code",
   "execution_count": null,
   "metadata": {},
   "outputs": [],
   "source": []
  }
 ],
 "metadata": {
  "kernelspec": {
   "display_name": "Python 3",
   "language": "python",
   "name": "python3"
  },
  "language_info": {
   "codemirror_mode": {
    "name": "ipython",
    "version": 3
   },
   "file_extension": ".py",
   "mimetype": "text/x-python",
   "name": "python",
   "nbconvert_exporter": "python",
   "pygments_lexer": "ipython3",
   "version": "3.7.0"
  }
 },
 "nbformat": 4,
 "nbformat_minor": 2
}
