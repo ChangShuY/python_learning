{
 "cells": [
  {
   "cell_type": "markdown",
   "metadata": {},
   "source": [
    "# 两个张量的加法运算网络\n",
    "https://www.paddlepaddle.org.cn/documentation/docs/zh/1.5/beginners_guide/programming_guide/programming_guide.html\n",
    "\n",
    "CSY 2019-11-8"
   ]
  },
  {
   "cell_type": "markdown",
   "metadata": {},
   "source": [
    " 定义网络"
   ]
  },
  {
   "cell_type": "code",
   "execution_count": 1,
   "metadata": {},
   "outputs": [],
   "source": [
    "import paddle.fluid as fluid\n",
    "\n",
    "#fluid.layers.data用于配置数据输入层\n",
    "#张量a和b的形状都是一维的，1个成员。\n",
    "a = fluid.layers.data(name=\"a\",shape=[1],dtype='float32')\n",
    "b = fluid.layers.data(name=\"b\",shape=[1],dtype='float32')\n",
    "\n",
    "#网络层\n",
    "result = fluid.layers.elementwise_add(a,b) # a+b\n"
   ]
  },
  {
   "cell_type": "markdown",
   "metadata": {},
   "source": [
    "定义执行器"
   ]
  },
  {
   "cell_type": "code",
   "execution_count": 2,
   "metadata": {},
   "outputs": [
    {
     "name": "stderr",
     "output_type": "stream",
     "text": [
      "/home/csy/anaconda3/lib/python3.7/site-packages/paddle/fluid/executor.py:790: UserWarning: The current program is empty.\n",
      "  warnings.warn(error_info)\n"
     ]
    },
    {
     "data": {
      "text/plain": [
       "[]"
      ]
     },
     "execution_count": 2,
     "metadata": {},
     "output_type": "execute_result"
    }
   ],
   "source": [
    "cpu = fluid.core.CPUPlace() #定义运算场所，这里选择在CPU下训练\n",
    "exe = fluid.Executor(cpu) #创建执行器\n",
    "exe.run(fluid.default_startup_program()) #网络参数初始化"
   ]
  },
  {
   "cell_type": "markdown",
   "metadata": {},
   "source": [
    "准备数据"
   ]
  },
  {
   "cell_type": "code",
   "execution_count": 15,
   "metadata": {},
   "outputs": [
    {
     "name": "stdout",
     "output_type": "stream",
     "text": [
      "Please enter an integer: a=123\n",
      "Please enter an integer: b=34\n"
     ]
    }
   ],
   "source": [
    "import numpy\n",
    "#接收键盘输入的数，作为整数保存\n",
    "data_1 = int(input(\"Please enter an integer: a=\"))\n",
    "data_2 = int(input(\"Please enter an integer: b=\"))\n",
    "#将整数转换为shape=[1]的张量\n",
    "x = numpy.array([[data_1]])\n",
    "y = numpy.array([[data_2]])"
   ]
  },
  {
   "cell_type": "code",
   "execution_count": 4,
   "metadata": {},
   "outputs": [
    {
     "data": {
      "text/plain": [
       "array([[7]])"
      ]
     },
     "execution_count": 4,
     "metadata": {},
     "output_type": "execute_result"
    }
   ],
   "source": [
    "x"
   ]
  },
  {
   "cell_type": "code",
   "execution_count": 5,
   "metadata": {},
   "outputs": [
    {
     "data": {
      "text/plain": [
       "array([[3]])"
      ]
     },
     "execution_count": 5,
     "metadata": {},
     "output_type": "execute_result"
    }
   ],
   "source": [
    "y"
   ]
  },
  {
   "cell_type": "markdown",
   "metadata": {},
   "source": [
    "执行计算"
   ]
  },
  {
   "cell_type": "code",
   "execution_count": 22,
   "metadata": {},
   "outputs": [],
   "source": [
    "outs = exe.run(\n",
    "feed={'a':x,'b':y},\n",
    "#fetch_list=[a,b,result]) #fetch_list定义网络的输出：加数、被加数、和\n",
    "fetch_list=[result]) #fetch_list定义网络的输出:只输出和"
   ]
  },
  {
   "cell_type": "markdown",
   "metadata": {},
   "source": [
    "验证结果"
   ]
  },
  {
   "cell_type": "code",
   "execution_count": 23,
   "metadata": {},
   "outputs": [
    {
     "name": "stdout",
     "output_type": "stream",
     "text": [
      "[array([[157]], dtype=int64)]\n",
      "123+34=157\n"
     ]
    }
   ],
   "source": [
    "print(outs)\n",
    "print (\"%d+%d=%d\" % (data_1,data_2,outs[0]))"
   ]
  },
  {
   "cell_type": "code",
   "execution_count": null,
   "metadata": {},
   "outputs": [],
   "source": []
  }
 ],
 "metadata": {
  "kernelspec": {
   "display_name": "Python 3",
   "language": "python",
   "name": "python3"
  },
  "language_info": {
   "codemirror_mode": {
    "name": "ipython",
    "version": 3
   },
   "file_extension": ".py",
   "mimetype": "text/x-python",
   "name": "python",
   "nbconvert_exporter": "python",
   "pygments_lexer": "ipython3",
   "version": "3.7.0"
  }
 },
 "nbformat": 4,
 "nbformat_minor": 2
}
